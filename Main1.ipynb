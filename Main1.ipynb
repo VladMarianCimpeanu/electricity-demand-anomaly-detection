{
 "cells": [
  {
   "cell_type": "markdown",
   "metadata": {},
   "source": [
    "# ANALISI CONSUMI\n",
    "Lo scopo di questo progetto è di analizzare i consumi di un determinato ufficio locato a Bergamo con l'intento di individuare possibili anomalie."
   ]
  },
  {
   "cell_type": "code",
   "execution_count": 19,
   "metadata": {},
   "outputs": [
    {
     "name": "stdout",
     "output_type": "stream",
     "text": [
      "Requirement already satisfied: holidays in c:\\programdata\\anaconda3\\envs\\digit\\lib\\site-packages (0.10.5.2)\n",
      "Requirement already satisfied: six in c:\\users\\lorenzo rossi\\appdata\\roaming\\python\\python37\\site-packages (from holidays) (1.15.0)\n",
      "Requirement already satisfied: korean-lunar-calendar in c:\\programdata\\anaconda3\\envs\\digit\\lib\\site-packages (from holidays) (0.2.1)\n",
      "Requirement already satisfied: python-dateutil in c:\\programdata\\anaconda3\\envs\\digit\\lib\\site-packages (from holidays) (2.8.1)\n",
      "Requirement already satisfied: convertdate>=2.3.0 in c:\\programdata\\anaconda3\\envs\\digit\\lib\\site-packages (from holidays) (2.3.2)\n",
      "Requirement already satisfied: hijri-converter in c:\\programdata\\anaconda3\\envs\\digit\\lib\\site-packages (from holidays) (2.1.1)\n",
      "Requirement already satisfied: pytz>=2014.10 in c:\\programdata\\anaconda3\\envs\\digit\\lib\\site-packages (from convertdate>=2.3.0->holidays) (2020.4)\n",
      "Requirement already satisfied: pymeeus<=1,>=0.3.13 in c:\\programdata\\anaconda3\\envs\\digit\\lib\\site-packages (from convertdate>=2.3.0->holidays) (0.5.11)\n",
      "Requirement already satisfied: six in c:\\users\\lorenzo rossi\\appdata\\roaming\\python\\python37\\site-packages (from holidays) (1.15.0)\n"
     ]
    }
   ],
   "source": [
    "import pandas as pd\n",
    "import numpy as np\n",
    "import matplotlib\n",
    "import matplotlib.pyplot as plt\n",
    "from collections  import Counter\n",
    "\n",
    "!pip install holidays\n",
    "import holidays\n",
    "# %matplotlib notebook"
   ]
  },
  {
   "cell_type": "code",
   "execution_count": 20,
   "metadata": {},
   "outputs": [],
   "source": [
    "# Constant\n",
    "FIG_SIZE = (16, 10)"
   ]
  },
  {
   "cell_type": "markdown",
   "metadata": {},
   "source": [
    "## Preparazione del Dataset\n",
    "Tra i dati letti all'interno del file csv, quelli che verranno effettivamente analizzati sono quelli provenienti dai Circuit Breaker 'First floor', 'Second floor' e 'Third floor'."
   ]
  },
  {
   "cell_type": "code",
   "execution_count": 21,
   "metadata": {},
   "outputs": [
    {
     "data": {
      "text/plain": [
       "['CB Third Floor', 'CB First Floor', 'CB Second Floor']"
      ]
     },
     "execution_count": 21,
     "metadata": {},
     "output_type": "execute_result"
    }
   ],
   "source": [
    "cb_target = [['CB Third Floor'], ['CB First Floor', 'CB Second Floor']]\n",
    "cb_flat = sum(cb_target, [])\n",
    "cb_flat"
   ]
  },
  {
   "cell_type": "code",
   "execution_count": 22,
   "metadata": {
    "scrolled": true
   },
   "outputs": [
    {
     "data": {
      "text/html": [
       "<div>\n",
       "<style scoped>\n",
       "    .dataframe tbody tr th:only-of-type {\n",
       "        vertical-align: middle;\n",
       "    }\n",
       "\n",
       "    .dataframe tbody tr th {\n",
       "        vertical-align: top;\n",
       "    }\n",
       "\n",
       "    .dataframe thead th {\n",
       "        text-align: right;\n",
       "    }\n",
       "</style>\n",
       "<table border=\"1\" class=\"dataframe\">\n",
       "  <thead>\n",
       "    <tr style=\"text-align: right;\">\n",
       "      <th></th>\n",
       "      <th>DateTime</th>\n",
       "      <th>CbTagName</th>\n",
       "      <th>AvgP</th>\n",
       "      <th>AvgT</th>\n",
       "      <th>AvgH</th>\n",
       "    </tr>\n",
       "  </thead>\n",
       "  <tbody>\n",
       "    <tr>\n",
       "      <th>0</th>\n",
       "      <td>2017-01-01 00:15:00</td>\n",
       "      <td>Bridge</td>\n",
       "      <td>0</td>\n",
       "      <td>0.0</td>\n",
       "      <td>0.000000</td>\n",
       "    </tr>\n",
       "    <tr>\n",
       "      <th>1</th>\n",
       "      <td>2017-02-06 00:00:00</td>\n",
       "      <td>CB Second Floor</td>\n",
       "      <td>0</td>\n",
       "      <td>3.5</td>\n",
       "      <td>98.599998</td>\n",
       "    </tr>\n",
       "    <tr>\n",
       "      <th>2</th>\n",
       "      <td>2017-02-06 00:00:00</td>\n",
       "      <td>CB First Floor</td>\n",
       "      <td>0</td>\n",
       "      <td>3.5</td>\n",
       "      <td>98.599998</td>\n",
       "    </tr>\n",
       "    <tr>\n",
       "      <th>3</th>\n",
       "      <td>2017-02-06 00:00:00</td>\n",
       "      <td>CB Backup A</td>\n",
       "      <td>0</td>\n",
       "      <td>3.5</td>\n",
       "      <td>98.599998</td>\n",
       "    </tr>\n",
       "    <tr>\n",
       "      <th>4</th>\n",
       "      <td>2017-02-06 00:00:00</td>\n",
       "      <td>CB Back Up C</td>\n",
       "      <td>0</td>\n",
       "      <td>3.5</td>\n",
       "      <td>98.599998</td>\n",
       "    </tr>\n",
       "    <tr>\n",
       "      <th>...</th>\n",
       "      <td>...</td>\n",
       "      <td>...</td>\n",
       "      <td>...</td>\n",
       "      <td>...</td>\n",
       "      <td>...</td>\n",
       "    </tr>\n",
       "    <tr>\n",
       "      <th>437559</th>\n",
       "      <td>2019-04-10 15:30:00</td>\n",
       "      <td>CB Backup A</td>\n",
       "      <td>0</td>\n",
       "      <td>18.1</td>\n",
       "      <td>52.599998</td>\n",
       "    </tr>\n",
       "    <tr>\n",
       "      <th>437560</th>\n",
       "      <td>2019-04-10 15:30:00</td>\n",
       "      <td>CB First Floor</td>\n",
       "      <td>68</td>\n",
       "      <td>18.1</td>\n",
       "      <td>52.599998</td>\n",
       "    </tr>\n",
       "    <tr>\n",
       "      <th>437561</th>\n",
       "      <td>2019-04-10 15:30:00</td>\n",
       "      <td>CB Back Up C</td>\n",
       "      <td>0</td>\n",
       "      <td>18.1</td>\n",
       "      <td>52.599998</td>\n",
       "    </tr>\n",
       "    <tr>\n",
       "      <th>437562</th>\n",
       "      <td>2019-04-10 15:30:00</td>\n",
       "      <td>Bridge</td>\n",
       "      <td>0</td>\n",
       "      <td>18.1</td>\n",
       "      <td>52.599998</td>\n",
       "    </tr>\n",
       "    <tr>\n",
       "      <th>437563</th>\n",
       "      <td>2019-04-10 15:30:00</td>\n",
       "      <td>CB Third Floor</td>\n",
       "      <td>0</td>\n",
       "      <td>18.1</td>\n",
       "      <td>52.599998</td>\n",
       "    </tr>\n",
       "  </tbody>\n",
       "</table>\n",
       "<p>437564 rows × 5 columns</p>\n",
       "</div>"
      ],
      "text/plain": [
       "                  DateTime        CbTagName  AvgP  AvgT       AvgH\n",
       "0      2017-01-01 00:15:00           Bridge     0   0.0   0.000000\n",
       "1      2017-02-06 00:00:00  CB Second Floor     0   3.5  98.599998\n",
       "2      2017-02-06 00:00:00   CB First Floor     0   3.5  98.599998\n",
       "3      2017-02-06 00:00:00      CB Backup A     0   3.5  98.599998\n",
       "4      2017-02-06 00:00:00     CB Back Up C     0   3.5  98.599998\n",
       "...                    ...              ...   ...   ...        ...\n",
       "437559 2019-04-10 15:30:00      CB Backup A     0  18.1  52.599998\n",
       "437560 2019-04-10 15:30:00   CB First Floor    68  18.1  52.599998\n",
       "437561 2019-04-10 15:30:00     CB Back Up C     0  18.1  52.599998\n",
       "437562 2019-04-10 15:30:00           Bridge     0  18.1  52.599998\n",
       "437563 2019-04-10 15:30:00   CB Third Floor     0  18.1  52.599998\n",
       "\n",
       "[437564 rows x 5 columns]"
      ]
     },
     "execution_count": 22,
     "metadata": {},
     "output_type": "execute_result"
    }
   ],
   "source": [
    "dataset = pd.read_csv('AVGpower-1.csv', sep=';', parse_dates=['DateTime'])\n",
    "dataset = dataset.astype({'AvgP':'int16', 'AvgT':'float32', 'AvgH':'float32'})\n",
    "dataset"
   ]
  },
  {
   "cell_type": "code",
   "execution_count": 23,
   "metadata": {
    "scrolled": false
   },
   "outputs": [],
   "source": [
    "# Preparazione dataset\n",
    "train = dataset[dataset['CbTagName']=='CB First Floor'].set_index('DateTime')\n",
    "d1 = dataset[dataset['CbTagName']=='CB Second Floor'].set_index('DateTime')\n",
    "d2 = dataset[dataset['CbTagName']=='CB Third Floor'].set_index('DateTime')\n",
    "train = train.join(d1, lsuffix='', rsuffix='2', how='inner')\n",
    "train = train.join(d2, lsuffix='1', rsuffix='3', how='inner')\n",
    "train.drop(columns=['AvgT2', 'AvgT3', 'AvgH2', 'AvgH3', 'CbTagName1', 'CbTagName2', 'CbTagName3'], inplace=True)\n",
    "train.rename(columns={'AvgT1':'AvgT', 'AvgH1':'AvgH'}, inplace=True)\n",
    "train = train.reset_index().groupby(['DateTime']).agg('max')\n",
    "train['DateTime'] = train.index"
   ]
  },
  {
   "cell_type": "markdown",
   "metadata": {},
   "source": [
    "## Correzione del Dataset\n",
    "Dall'analisi dei dati emerge che la frequenza di campionamento è di 15 minuti, tuttavia è stata notata la mancanza di aluni campioni all'interno del dataset:\n",
    "per risolvere questo problema si è scelto di introdurre dei campioni fittizi per colmare le mancanze.\n",
    "<br>\n",
    "Poichè in certi casi i dati mancanti possono essere 'contigui', la scelta di interpolare dei dati non può essere sempre considerata, di conseguenza si è preferito inserire i valori dei campioni che precedono il campione mancante di esattamente una settimana. L'interpolazione dei dati è stata adottata esclusivamente per correggere la prima settimana di campionamento, in quanto anche essa presenta dei dati mancanti ma molto sparsi, condizione apprezzabile per applicare l'interpolazione: quest'ultima è fondamentale, in quanto non sarebbe possibile colmare le mancanze successive, poichè si rischierebbe di copiare un valore inesistente. \n"
   ]
  },
  {
   "cell_type": "code",
   "execution_count": 24,
   "metadata": {
    "scrolled": true
   },
   "outputs": [
    {
     "name": "stdout",
     "output_type": "stream",
     "text": [
      "Punto mancante (interpolato): 2017-02-08 02:15:00\n",
      "Punto mancante (interpolato): 2017-02-12 00:00:00\n",
      "Punto mancante (interpolato): 2017-02-12 18:00:00\n",
      "Punto mancante (interpolato): 2017-02-12 18:30:00\n",
      "Punto mancante (interpolato): 2017-02-12 19:15:00\n",
      "Punto mancante (interpolato): 2017-02-12 19:45:00\n",
      "Punto mancante (interpolato): 2017-02-12 21:00:00\n",
      "Punto mancante (interpolato): 2017-02-13 04:15:00\n",
      "Punto mancante (interpolato): 2017-02-13 05:45:00\n",
      "Punto mancante (interpolato): 2017-02-13 06:15:00\n",
      "Punto mancante (interpolato): 2017-02-13 06:45:00\n",
      "Punto mancante (interpolato): 2017-02-13 07:15:00\n",
      "Punto mancante (interpolato): 2017-02-13 08:15:00\n",
      "Punto mancante (interpolato): 2017-02-13 08:45:00\n",
      "Punto mancante (interpolato): 2017-02-13 09:15:00\n"
     ]
    }
   ],
   "source": [
    "# rimozione del primo giorno e dell'ultimo giorno\n",
    "train = train[(train['DateTime']>='2017-02-08')&(train['DateTime']<'2019-04-10')].copy()\n",
    "# aggiunta punti mancanti\n",
    "new_row = {name:[] for name in train.columns}\n",
    "for date in pd.date_range(start='2017-02-08', end='2017-02-15', freq='15Min'):\n",
    "    if date not in train['DateTime']:\n",
    "        print('Punto mancante (interpolato):', date)\n",
    "        new_row['DateTime'].append(date)\n",
    "        for name in train.columns:\n",
    "            if name != 'DateTime':\n",
    "                new_row[name].append(np.nan)\n",
    "\n",
    "train = pd.concat([train, pd.DataFrame(new_row)])\n",
    "train = train.set_index('DateTime')\n",
    "train.interpolate(inplace=True)\n",
    "train['DateTime'] = train.index\n",
    "\n",
    "new_row = {name:[] for name in train.columns}\n",
    "for date in pd.date_range(start='2017-02-15', end=train['DateTime'].max(), freq='15Min'):\n",
    "    if date not in train['DateTime']:\n",
    "        # print(date)\n",
    "        new_row['DateTime'].append(date)\n",
    "        for name in train.columns:\n",
    "            if name != 'DateTime':\n",
    "                new_row[name].append(np.nan)\n",
    "train = pd.concat([train, pd.DataFrame(new_row)])\n",
    "train = train.set_index('DateTime')\n",
    "\n",
    "train.sort_index(inplace=True)\n",
    "\n",
    "for i in range(96*7, len(train)):\n",
    "    if np.isnan(train.iloc[i].AvgP1):\n",
    "        train.iloc[i] = train.iloc[i-96*7]\n",
    "train['DateTime'] = train.index"
   ]
  },
  {
   "cell_type": "code",
   "execution_count": 25,
   "metadata": {
    "scrolled": true
   },
   "outputs": [],
   "source": [
    "# giorni di vacanza\n",
    "holidays_it = list(holidays.Italy())\n",
    "holidays_new = ['2017-04-24', '2017-08-14', '2017-08-16', '2017-08-17', '2017-12-27', '2017-12-28', '2017-12-29', '2018-01-01', '2018-04-30', '2018-08-13', '2018-08-14', '2018-11-02', '2018-12-24', '2018-12-27', '2018-12-28', '2018-12-31']\n",
    "holidays_new += ['2017-04-17', '2017-04-25', '2017-08-15', '2017-11-01', '2017-12-08', '2017-12-25', '2017-12-26', '2018-04-02', '2018-04-25', '2018-05-25', '2018-12-25', '2019-01-01', '2019-01-02']\n",
    "train['holidays'] = train['DateTime'].apply(lambda x: x in holidays_it or str(x.date()) in holidays_new).astype('int8')\n",
    "for week in train[train['holidays'] == 1]['DateTime'].dt.isocalendar().week.unique():\n",
    "    train.loc[train['DateTime'].dt.isocalendar().week == week,'holidays'] = 1\n",
    "\n",
    "# giorno della settimana\n",
    "train['dayofweek'] = train['DateTime'].dt.dayofweek\n",
    "# salvataggio dataset\n",
    "train.to_pickle('train1.pkl')"
   ]
  },
  {
   "cell_type": "code",
   "execution_count": 26,
   "metadata": {},
   "outputs": [
    {
     "data": {
      "text/html": [
       "<div>\n",
       "<style scoped>\n",
       "    .dataframe tbody tr th:only-of-type {\n",
       "        vertical-align: middle;\n",
       "    }\n",
       "\n",
       "    .dataframe tbody tr th {\n",
       "        vertical-align: top;\n",
       "    }\n",
       "\n",
       "    .dataframe thead th {\n",
       "        text-align: right;\n",
       "    }\n",
       "</style>\n",
       "<table border=\"1\" class=\"dataframe\">\n",
       "  <thead>\n",
       "    <tr style=\"text-align: right;\">\n",
       "      <th></th>\n",
       "      <th>AvgP1</th>\n",
       "      <th>AvgT</th>\n",
       "      <th>AvgH</th>\n",
       "      <th>AvgP2</th>\n",
       "      <th>AvgP3</th>\n",
       "      <th>DateTime</th>\n",
       "      <th>holidays</th>\n",
       "      <th>dayofweek</th>\n",
       "    </tr>\n",
       "    <tr>\n",
       "      <th>DateTime</th>\n",
       "      <th></th>\n",
       "      <th></th>\n",
       "      <th></th>\n",
       "      <th></th>\n",
       "      <th></th>\n",
       "      <th></th>\n",
       "      <th></th>\n",
       "      <th></th>\n",
       "    </tr>\n",
       "  </thead>\n",
       "  <tbody>\n",
       "    <tr>\n",
       "      <th>2017-02-08 00:00:00</th>\n",
       "      <td>35.0</td>\n",
       "      <td>4.30</td>\n",
       "      <td>94.199997</td>\n",
       "      <td>34.0</td>\n",
       "      <td>87.0</td>\n",
       "      <td>2017-02-08 00:00:00</td>\n",
       "      <td>0</td>\n",
       "      <td>2</td>\n",
       "    </tr>\n",
       "    <tr>\n",
       "      <th>2017-02-08 00:15:00</th>\n",
       "      <td>0.0</td>\n",
       "      <td>4.80</td>\n",
       "      <td>94.550003</td>\n",
       "      <td>0.0</td>\n",
       "      <td>0.0</td>\n",
       "      <td>2017-02-08 00:15:00</td>\n",
       "      <td>0</td>\n",
       "      <td>2</td>\n",
       "    </tr>\n",
       "    <tr>\n",
       "      <th>2017-02-08 00:30:00</th>\n",
       "      <td>0.0</td>\n",
       "      <td>5.40</td>\n",
       "      <td>94.800003</td>\n",
       "      <td>51.0</td>\n",
       "      <td>0.0</td>\n",
       "      <td>2017-02-08 00:30:00</td>\n",
       "      <td>0</td>\n",
       "      <td>2</td>\n",
       "    </tr>\n",
       "    <tr>\n",
       "      <th>2017-02-08 00:45:00</th>\n",
       "      <td>0.0</td>\n",
       "      <td>5.40</td>\n",
       "      <td>94.449997</td>\n",
       "      <td>0.0</td>\n",
       "      <td>83.0</td>\n",
       "      <td>2017-02-08 00:45:00</td>\n",
       "      <td>0</td>\n",
       "      <td>2</td>\n",
       "    </tr>\n",
       "    <tr>\n",
       "      <th>2017-02-08 01:00:00</th>\n",
       "      <td>53.0</td>\n",
       "      <td>5.50</td>\n",
       "      <td>94.199997</td>\n",
       "      <td>0.0</td>\n",
       "      <td>0.0</td>\n",
       "      <td>2017-02-08 01:00:00</td>\n",
       "      <td>0</td>\n",
       "      <td>2</td>\n",
       "    </tr>\n",
       "    <tr>\n",
       "      <th>...</th>\n",
       "      <td>...</td>\n",
       "      <td>...</td>\n",
       "      <td>...</td>\n",
       "      <td>...</td>\n",
       "      <td>...</td>\n",
       "      <td>...</td>\n",
       "      <td>...</td>\n",
       "      <td>...</td>\n",
       "    </tr>\n",
       "    <tr>\n",
       "      <th>2019-04-09 22:45:00</th>\n",
       "      <td>41.0</td>\n",
       "      <td>10.95</td>\n",
       "      <td>83.250000</td>\n",
       "      <td>41.0</td>\n",
       "      <td>65.0</td>\n",
       "      <td>2019-04-09 22:45:00</td>\n",
       "      <td>0</td>\n",
       "      <td>1</td>\n",
       "    </tr>\n",
       "    <tr>\n",
       "      <th>2019-04-09 23:00:00</th>\n",
       "      <td>42.0</td>\n",
       "      <td>10.80</td>\n",
       "      <td>84.599998</td>\n",
       "      <td>42.0</td>\n",
       "      <td>68.0</td>\n",
       "      <td>2019-04-09 23:00:00</td>\n",
       "      <td>0</td>\n",
       "      <td>1</td>\n",
       "    </tr>\n",
       "    <tr>\n",
       "      <th>2019-04-09 23:15:00</th>\n",
       "      <td>43.0</td>\n",
       "      <td>10.65</td>\n",
       "      <td>86.050003</td>\n",
       "      <td>43.0</td>\n",
       "      <td>72.0</td>\n",
       "      <td>2019-04-09 23:15:00</td>\n",
       "      <td>0</td>\n",
       "      <td>1</td>\n",
       "    </tr>\n",
       "    <tr>\n",
       "      <th>2019-04-09 23:30:00</th>\n",
       "      <td>42.0</td>\n",
       "      <td>10.30</td>\n",
       "      <td>86.900002</td>\n",
       "      <td>42.0</td>\n",
       "      <td>67.0</td>\n",
       "      <td>2019-04-09 23:30:00</td>\n",
       "      <td>0</td>\n",
       "      <td>1</td>\n",
       "    </tr>\n",
       "    <tr>\n",
       "      <th>2019-04-09 23:45:00</th>\n",
       "      <td>42.0</td>\n",
       "      <td>9.95</td>\n",
       "      <td>87.800003</td>\n",
       "      <td>42.0</td>\n",
       "      <td>64.0</td>\n",
       "      <td>2019-04-09 23:45:00</td>\n",
       "      <td>0</td>\n",
       "      <td>1</td>\n",
       "    </tr>\n",
       "  </tbody>\n",
       "</table>\n",
       "<p>75936 rows × 8 columns</p>\n",
       "</div>"
      ],
      "text/plain": [
       "                     AvgP1   AvgT       AvgH  AvgP2  AvgP3  \\\n",
       "DateTime                                                     \n",
       "2017-02-08 00:00:00   35.0   4.30  94.199997   34.0   87.0   \n",
       "2017-02-08 00:15:00    0.0   4.80  94.550003    0.0    0.0   \n",
       "2017-02-08 00:30:00    0.0   5.40  94.800003   51.0    0.0   \n",
       "2017-02-08 00:45:00    0.0   5.40  94.449997    0.0   83.0   \n",
       "2017-02-08 01:00:00   53.0   5.50  94.199997    0.0    0.0   \n",
       "...                    ...    ...        ...    ...    ...   \n",
       "2019-04-09 22:45:00   41.0  10.95  83.250000   41.0   65.0   \n",
       "2019-04-09 23:00:00   42.0  10.80  84.599998   42.0   68.0   \n",
       "2019-04-09 23:15:00   43.0  10.65  86.050003   43.0   72.0   \n",
       "2019-04-09 23:30:00   42.0  10.30  86.900002   42.0   67.0   \n",
       "2019-04-09 23:45:00   42.0   9.95  87.800003   42.0   64.0   \n",
       "\n",
       "                               DateTime  holidays  dayofweek  \n",
       "DateTime                                                      \n",
       "2017-02-08 00:00:00 2017-02-08 00:00:00         0          2  \n",
       "2017-02-08 00:15:00 2017-02-08 00:15:00         0          2  \n",
       "2017-02-08 00:30:00 2017-02-08 00:30:00         0          2  \n",
       "2017-02-08 00:45:00 2017-02-08 00:45:00         0          2  \n",
       "2017-02-08 01:00:00 2017-02-08 01:00:00         0          2  \n",
       "...                                 ...       ...        ...  \n",
       "2019-04-09 22:45:00 2019-04-09 22:45:00         0          1  \n",
       "2019-04-09 23:00:00 2019-04-09 23:00:00         0          1  \n",
       "2019-04-09 23:15:00 2019-04-09 23:15:00         0          1  \n",
       "2019-04-09 23:30:00 2019-04-09 23:30:00         0          1  \n",
       "2019-04-09 23:45:00 2019-04-09 23:45:00         0          1  \n",
       "\n",
       "[75936 rows x 8 columns]"
      ]
     },
     "execution_count": 26,
     "metadata": {},
     "output_type": "execute_result"
    }
   ],
   "source": [
    "train"
   ]
  },
  {
   "cell_type": "markdown",
   "metadata": {},
   "source": [
    "## Dati terzo piano\n",
    "I dati del terzo piano non sono particolarmente significativi per poter individuare anomalie all'interno dei giorni festivi e lavorativi, in quanto gli impianti di riscaldamento e di raffreddamento sono accesi indipendentemente dal tipo di giorno.\n",
    "I dati fanno notare come i consumi legati al riscaldamento dipendano per lo più dalle stagioni come si può notare dal grafico:\n",
    "mediamente i consumi più bassi si hanno durante la primavera poichè le temperature sono più miti.\n",
    "<br>\n",
    "Per questo motivo si è scelto di studiare più nel dettaglio l'andamento dei consumi elettrici del **secondo piano** dove vengono registrati i consumi relativi alla luce."
   ]
  },
  {
   "cell_type": "code",
   "execution_count": 27,
   "metadata": {
    "scrolled": false
   },
   "outputs": [
    {
     "name": "stderr",
     "output_type": "stream",
     "text": [
      "C:\\ProgramData\\Anaconda3\\envs\\digit\\lib\\site-packages\\ipykernel_launcher.py:12: UserWarning: In Matplotlib 3.3 individual lines on a stem plot will be added as a LineCollection instead of individual lines. This significantly improves the performance of a stem plot. To remove this warning and switch to the new behaviour, set the \"use_line_collection\" keyword argument to True.\n",
      "  if sys.path[0] == '':\n",
      "C:\\ProgramData\\Anaconda3\\envs\\digit\\lib\\site-packages\\ipykernel_launcher.py:13: UserWarning: In Matplotlib 3.3 individual lines on a stem plot will be added as a LineCollection instead of individual lines. This significantly improves the performance of a stem plot. To remove this warning and switch to the new behaviour, set the \"use_line_collection\" keyword argument to True.\n",
      "  del sys.path[0]\n"
     ]
    },
    {
     "data": {
      "image/png": "[encoded data removed]",
      "text/plain": [
       "<Figure size 1152x720 with 1 Axes>"
      ]
     },
     "metadata": {
      "needs_background": "light"
     },
     "output_type": "display_data"
    }
   ],
   "source": [
    "fig, ax = plt.subplots(figsize=FIG_SIZE)\n",
    "curr_dataset = train\n",
    "curr_dataset = curr_dataset[curr_dataset['DateTime'].dt.year == 2018]\n",
    "curr_dataset = curr_dataset[(1 <= curr_dataset['DateTime'].dt.month)&(curr_dataset['DateTime'].dt.month <= 6)]\n",
    "#curr_dataset = curr_dataset[curr_dataset['DateTime'].dt.day < 12]\n",
    "\n",
    "\n",
    "curr_holidays = curr_dataset[(curr_dataset['holidays'] == 1)|(curr_dataset['dayofweek']>=5)]\n",
    "curr_not_holidays = curr_dataset[~((curr_dataset['holidays'] == 1)|(curr_dataset['dayofweek']>=5))]\n",
    "\n",
    "\n",
    "ax.stem(curr_holidays.index, curr_holidays['AvgP3'], label='CB Third Floor - Giorno festivo', linefmt='C1', markerfmt=' ', basefmt=' ')\n",
    "ax.stem(curr_not_holidays.index, curr_not_holidays['AvgP3'], label='CB Third Floor - Giorno lavorativo', linefmt='C0', markerfmt=' ', basefmt=' ')\n",
    "\n",
    "ax.grid()\n",
    "ax.legend()\n",
    "plt.show()\n"
   ]
  },
  {
   "cell_type": "markdown",
   "metadata": {},
   "source": [
    "# Dati anomali\n",
    "\n",
    "All'interno di questo dataset sono state riscontrate alcune anomalie:\n",
    "- 24/04/2017 giorno lavorativo con consumi bassi: i due giorni precedenti sono weekend mentre il giorno successivo è un festivo, si presume che questo giorno sia un ponte.\n",
    "- 14/08/2017 giorno lavorativo con consumi bassi: i due giorni precedenti sono weekend mentre il giorno successivo è un festivo, si presume che questo giorno sia un ponte.\n",
    "- 16/08/2017 e 17/08/2017 giorni lavorativi con bassi consumi: si presume che siano giorni di vacanza di ferragosto.\n",
    "- 27/12/2017 28/12/2017 29/12/2017 giorni lavorativi con consumi bassi: si presume siano giorni di vacanze natalizie.\n",
    "- 01/01/2018 fino a 08/01/2018 giorni lavorativi con consumi medio bassi: si presume che alcuni dipendenti abbiano preso ferie tra capodanno e l'epifania.\n",
    "- 30/04/2018 giorno lavorativo con consumi bassi: i due giorni precedenti sono weekend mentre il giorno successivo è un festivo, si presume che questo giorno sia un ponte.\n",
    "- 15/08/2018 giorno festivo con consumi elevati: i dati di questo giorno in realtà sono quelli del 08/08/2018 che è un giorno lavorativo in quanto i dati reali del 15/08/2018 sono mancanti.\n",
    "- 13/08/2018 e 14/08/2018 giorni lavorativi con bassi consumi: essendo giorni precedenti a quello di ferragosto si presume che i dipendenti abbiano preso ferie per le vacanze di ferragosto. \n",
    "- 02/11/2018 giorno lavorativo con consumi bassi: i due giorni successivi sono weekend mentre il giorno precedente è un festivo, si presume che questo giorno sia un ponte.\n",
    "- 26/12/2018 giorno festivo con picchi di consumi elevati: è difficile dare una spigazione a questa anomalia."
   ]
  },
  {
   "cell_type": "code",
   "execution_count": 28,
   "metadata": {
    "scrolled": false
   },
   "outputs": [
    {
     "data": {
      "image/png": "[encoded data removed]",
      "text/plain": [
       "<Figure size 1152x720 with 1 Axes>"
      ]
     },
     "metadata": {
      "needs_background": "light"
     },
     "output_type": "display_data"
    }
   ],
   "source": [
    "fig, ax = plt.subplots(figsize=FIG_SIZE)\n",
    "curr_dataset = train\n",
    "curr_dataset = curr_dataset[('2018-11-01' <= curr_dataset['DateTime'])&(curr_dataset['DateTime'] <= '2019-01-01')]\n",
    "# curr_dataset = curr_dataset[('2018-12-01' <= curr_dataset['DateTime'])&(curr_dataset['DateTime'] <= '2019-12-01')]\n",
    "\n",
    "curr_holidays = curr_dataset[(curr_dataset['holidays'] == 1)|(curr_dataset['dayofweek']>=5)]\n",
    "curr_not_holidays = curr_dataset[~((curr_dataset['holidays'] == 1)|(curr_dataset['dayofweek']>=5))]\n",
    "\n",
    "\n",
    "ax.stem(curr_holidays.index, curr_holidays['AvgP2'], label='CB Second Floor - Giorno festivo', linefmt='C1', markerfmt=' ', basefmt=' ', use_line_collection=True)\n",
    "ax.stem(curr_not_holidays.index, curr_not_holidays['AvgP2'], label='CB Second Floor - Giorno lavorativo', linefmt='C0', markerfmt=' ', basefmt=' ', use_line_collection=True)\n",
    "\n",
    "ax.grid()\n",
    "ax.legend()\n",
    "plt.show()\n"
   ]
  },
  {
   "cell_type": "code",
   "execution_count": 29,
   "metadata": {},
   "outputs": [
    {
     "name": "stderr",
     "output_type": "stream",
     "text": [
      "C:\\ProgramData\\Anaconda3\\envs\\digit\\lib\\site-packages\\ipykernel_launcher.py:4: UserWarning: In Matplotlib 3.3 individual lines on a stem plot will be added as a LineCollection instead of individual lines. This significantly improves the performance of a stem plot. To remove this warning and switch to the new behaviour, set the \"use_line_collection\" keyword argument to True.\n",
      "  after removing the cwd from sys.path.\n"
     ]
    },
    {
     "data": {
      "image/png": "[encoded data removed]",
      "text/plain": [
       "<Figure size 1152x720 with 1 Axes>"
      ]
     },
     "metadata": {
      "needs_background": "light"
     },
     "output_type": "display_data"
    }
   ],
   "source": [
    "fig, ax = plt.subplots(1, 1, figsize=FIG_SIZE)\n",
    "dayofweek = {i:0 for i in range(7)}\n",
    "dayofweek.update(dict(Counter(train[train['holidays']==1]['dayofweek'][::96].to_numpy())))\n",
    "ax.stem(dayofweek.keys(), dayofweek.values())\n",
    "ax.grid()\n",
    "plt.title(\"Giorni anomali raggruppati per giorni della settimana\", fontdict=None, loc='center', pad=None)\n",
    "plt.show()"
   ]
  },
  {
   "cell_type": "markdown",
   "metadata": {},
   "source": [
    "# Anomalie Terzo piano\n",
    "Nonostante il terzo piano non sia particolarmente significativo, si è notata la presenza di dati anomali, ovvero potenze **negative** che offrono un interessante spunto di riflessione."
   ]
  },
  {
   "cell_type": "code",
   "execution_count": 30,
   "metadata": {},
   "outputs": [
    {
     "name": "stderr",
     "output_type": "stream",
     "text": [
      "C:\\ProgramData\\Anaconda3\\envs\\digit\\lib\\site-packages\\ipykernel_launcher.py:10: UserWarning: In Matplotlib 3.3 individual lines on a stem plot will be added as a LineCollection instead of individual lines. This significantly improves the performance of a stem plot. To remove this warning and switch to the new behaviour, set the \"use_line_collection\" keyword argument to True.\n",
      "  # Remove the CWD from sys.path while we load stuff.\n",
      "C:\\ProgramData\\Anaconda3\\envs\\digit\\lib\\site-packages\\ipykernel_launcher.py:11: UserWarning: In Matplotlib 3.3 individual lines on a stem plot will be added as a LineCollection instead of individual lines. This significantly improves the performance of a stem plot. To remove this warning and switch to the new behaviour, set the \"use_line_collection\" keyword argument to True.\n",
      "  # This is added back by InteractiveShellApp.init_path()\n"
     ]
    },
    {
     "data": {
      "image/png": "[encoded data removed]",
      "text/plain": [
       "<Figure size 1152x720 with 1 Axes>"
      ]
     },
     "metadata": {
      "needs_background": "light"
     },
     "output_type": "display_data"
    }
   ],
   "source": [
    "fig, ax = plt.subplots(figsize=FIG_SIZE)\n",
    "curr_dataset = train\n",
    "curr_dataset = curr_dataset[curr_dataset['DateTime'].dt.year == 2017]\n",
    "curr_dataset = curr_dataset[curr_dataset['DateTime'].dt.month == 4]\n",
    "\n",
    "curr_holidays = curr_dataset[(curr_dataset['holidays'] == 1)|(curr_dataset['dayofweek']>=5)]\n",
    "curr_not_holidays = curr_dataset[~((curr_dataset['holidays'] == 1)|(curr_dataset['dayofweek']>=5))]\n",
    "\n",
    "\n",
    "ax.stem(curr_holidays.index, curr_holidays['AvgP3'], label='CB Third Floor - Giorno festivo', linefmt='C1', markerfmt=' ', basefmt=' ')\n",
    "ax.stem(curr_not_holidays.index, curr_not_holidays['AvgP3'], label='CB Third Floor - Giorno lavorativo', linefmt='C0', markerfmt=' ', basefmt=' ')\n",
    "\n",
    "#ax.plot(curr_dataset.index, curr_dataset['holidays'], label='hol')\n",
    "\n",
    "ax.grid()\n",
    "ax.legend()\n",
    "plt.title(\"Esempio di potenze con valori negativi\", fontdict=None, loc='center', pad=None)\n",
    "plt.show()"
   ]
  },
  {
   "cell_type": "markdown",
   "metadata": {},
   "source": [
    "Questi dati anomali presentano alcune caratteristiche comuni:\n",
    "- non compaiono mai nelle giornate lavorative.\n",
    "- compaiono solo nella fascia oraria 10-17.\n",
    "- compaiono principalmente nei mesi di primavera.\n"
   ]
  },
  {
   "cell_type": "code",
   "execution_count": 31,
   "metadata": {},
   "outputs": [
    {
     "data": {
      "image/png": "[encoded data removed]",
      "text/plain": [
       "<Figure size 432x288 with 1 Axes>"
      ]
     },
     "metadata": {
      "needs_background": "light"
     },
     "output_type": "display_data"
    }
   ],
   "source": [
    "fig, ax = plt.subplots(1, 1, tight_layout=True)\n",
    "hours = train[train['AvgP3']<0]['DateTime'].dt.hour\n",
    "ax.hist(hours, bins=len(hours.unique()))\n",
    "plt.title(\"Frequenza dei valori negativi per ogni ora del giorno\", fontdict=None, loc='center', pad=None)\n",
    "plt.show()"
   ]
  },
  {
   "cell_type": "markdown",
   "metadata": {},
   "source": [
    "Questi pattern portano ad ipotizzare che l'ufficio potrebbe essere dotato di pannelli fotovoltaici e i valori di potenza negativa potrebbero indicare che i consumi dell'edificio sono minori rispetto all'energia prodotta dai pannelli, come suggerito dal sito https://ctlsys.com/support/negative_power_values/:\n",
    "\n",
    "\" There are a few different reasons for negative power readings:\n",
    "\n",
    "- One or more CTs are installed backwards. CTs have a label or arrow that should point towards the source of power (generally the transformer, breaker, or fuse).\n",
    "- ***This is a bidirectional power measurement application, such as a photovoltaic system, where negative power occurs whenever you generate more power than you consume. In this case, there is nothing wrong with the negative power readings, so long as they occur when power is being generated.***\n",
    "- The current transformers are installed so that the phases don’t match the voltage phases. For example, suppose the CTs are shifted by one phase, so that instead of monitoring phases A, B, and C (in that order), the CTs are on B, C, and A. This will generally result in negative power or a very low power factor. \"\n",
    "\n",
    "In conclusione si è scelto di considerare corretti questi valori."
   ]
  }
 ],
 "metadata": {
  "kernelspec": {
   "display_name": "Python 3",
   "language": "python",
   "name": "python3"
  },
  "language_info": {
   "codemirror_mode": {
    "name": "ipython",
    "version": 3
   },
   "file_extension": ".py",
   "mimetype": "text/x-python",
   "name": "python",
   "nbconvert_exporter": "python",
   "pygments_lexer": "ipython3",
   "version": "3.7.3"
  }
 },
 "nbformat": 4,
 "nbformat_minor": 4
}
