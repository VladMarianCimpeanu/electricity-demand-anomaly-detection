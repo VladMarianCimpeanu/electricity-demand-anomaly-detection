{
 "cells": [
  {
   "cell_type": "markdown",
   "metadata": {
    "pycharm": {
     "name": "#%% md\n"
    }
   },
   "source": [
    "# Power demand anomaly detection\n",
    "\n",
    "## Introduzione\n",
    "\n",
    "Lo scopo di questo progetto è quello di individuare anomalie di consumi energetici durante i giorni lavorativi e festivi\n",
    "all'interno di un determinato ufficio. Per fare ciò si è deciso di confrontare il paper 'A Novel Approach for Anomaly Detection in Power\n",
    "Consumption Data' di C. Chahla, H. Snoussi, L. Merghem e M. Esseghir.\n",
    "\n",
    "## Approccio proposto\n",
    "Il paper citato propone due metodologie distinte per riconoscere i consumi anomali:\n",
    "- approccio ibrido utilizzando k-means e LSTM\n",
    "- autoencoder\n",
    "\n",
    "### K-means & LSTM\n",
    "Nel primo caso viene proposto di rappresentare ciascuna ora di campionamento con le 24 ore precedenti e di creare 24\n",
    "gruppi di campioni, dove all'interno dell'i-esimo gruppo vengono inseriti i campioni rappresentanti l'i-esima ora.\n",
    "All'interno di ciascun gruppo viene applicato l'algoritmo di k-means per individuare quali sono i comportamenti considerati\n",
    "normali per ciascuna ora. Una volta fatto ciò viene utilizzato un LSTM che prende come ingresso i consumi delle ultime 24 ore\n",
    "per prevedere i consumi dell'ora successiva: ottenuta la previsione è possible creare un vettore contenente i dati\n",
    "delle ultime 23 ore e i consumi previsti dell'ora successiva e verificare quale sia il cluster più vicino. Se il vettore\n",
    "ottenuto dista più di una distanza massima definita da ciascun cluster, si può supporre che l'ora prevista sia anomala.\n",
    "Il vantaggio di questo approccio è dato dalla possibilità di prevedere con un anticipo di un'ora la presenza di consumi anomali.\n",
    "\n",
    "### Autoencoder\n",
    "Il secondo approccio suggerisce di rappresentare i giorni come vettori contenenti 24 campioni, dove l'i-esimo campione rappresenta\n",
    "il consumo all'i-esima ora. Utilizzando un autoencoder è possibile riconoscere i giorni con consumi anomali in base all'errore di\n",
    "ricostruzione del giorno: se l'errore di ricostruzione è alto, è lecito aspettarsi che il giorno sia anomalo.\n",
    "\n",
    "## Problematiche\n",
    "Sebbene entrambi i metodi siano validi, essi non sono dei metodi completi, infatti entrambi sono in grado di riconoscere\n",
    "un giorno anomalo nel momento in cui si presentano dei picchi di consumo particolarmente elevati, ma non sono in grado di distinguere i\n",
    "giorni lavorativi da quelli festivi: questo significa che un giorno lavorativo con consumi di un tipico giorno festivo non\n",
    "verrebbe riconosciuto come un'anomalia.\n",
    "\n",
    "## Soluzione\n",
    "Per far fronte alle problematiche evidenziate si è deciso di utilizzare degli approcci alternativi, di seguito vengono\n",
    "elencati i metodi proposti:\n",
    "- Doppio autoencoder: anziché utilizzare un unico autoencoder si è deciso di utilizzare un autoencoder per ciascun tipo di giornata,\n",
    "ovvero uno per riconoscere i giorni festivi anomali e l'altro per i giorni lavorativi anomali.\n",
    "- K-means con 2 centroidi: ad un centroide vengono associati i giorni lavorativi, mentre al rimanente i giorni festivi.\n",
    "- LSTM con input settimanali: anziché prevedere i consumi dell'ora successiva, si propone di prevedere i consumi del giorno\n",
    "successivo, dati i consumi degli ultimi sette giorni, in modo tale da poter riconoscere la periodicità settimanale."
   ]
  },
  {
   "cell_type": "code",
   "execution_count": 1,
   "metadata": {
    "collapsed": true
   },
   "outputs": [],
   "source": [
    "import math\n",
    "import numpy as np\n",
    "import matplotlib.pyplot as plt\n",
    "import holidays\n",
    "import pandas as pd\n",
    "import random\n",
    "\n",
    "%matplotlib inline\n"
   ]
  },
  {
   "cell_type": "markdown",
   "metadata": {
    "pycharm": {
     "name": "#%% md\n"
    }
   },
   "source": [
    "Per fare l'analisi di anomalie si è deciso di utilizzare il dataset dell'Olanda('power_data_eamonn-1.txt').\n",
    "Una volta letti i dati, questi vengono scalati e distribuiti su valori che vanno da 0 a 1, in modo tale da avere dei risultati\n",
    "migliori."
   ]
  },
  {
   "cell_type": "markdown",
   "source": [
    "## Data preparation per Autoencoder e k-means"
   ],
   "metadata": {
    "collapsed": false,
    "pycharm": {
     "name": "#%% md\n"
    }
   }
  },
  {
   "cell_type": "code",
   "execution_count": 2,
   "metadata": {
    "pycharm": {
     "name": "#%%\n"
    }
   },
   "outputs": [],
   "source": [
    "plt.rcParams[\"figure.figsize\"] = (24,16)\n",
    "with open('power_data_eamonn-1.txt', 'r') as f:\n",
    "    samples = f.readlines()\n",
    "#x\n",
    "samples = np.array([int(i) for i in samples if i != '\\n'])\n",
    "samples = samples / samples.max()\n",
    "DAY = 96"
   ]
  },
  {
   "cell_type": "markdown",
   "metadata": {
    "pycharm": {
     "name": "#%% md\n"
    }
   },
   "source": [
    "Di seguito vengono riportate le date anomale che sono state individuate durante l'analisi dei dati dell'Olanda.\n",
    "\n",
    "05/05/1997 è un giorno lavorativo con valori di consumo bassi, mentre 04/10/1997 è un giorno festivo con valori di consumo\n",
    "alti.\n",
    "I giorni lavorativi anomali vengono raggruppati in wrongHolidays, mentre i giorni lavorativi anomali in wrongWorkingDays."
   ]
  },
  {
   "cell_type": "code",
   "execution_count": 3,
   "metadata": {
    "pycharm": {
     "name": "#%%\n"
    }
   },
   "outputs": [
    {
     "name": "stdout",
     "output_type": "stream",
     "text": [
      "anomalous working days are 1\n",
      "anomalous holidays are 1\n"
     ]
    }
   ],
   "source": [
    "def append_anomalous_day(list_of_days, day):\n",
    "    day = day.split('/')\n",
    "    day = day[2] + \"-\" + day[1] + \"-\" + day[0]\n",
    "    listOfSamples = [x for x in pd.date_range(start=day+\" 00:00\", end=day+\" 23:59\", freq=\"1d\")]\n",
    "    for x in listOfSamples:\n",
    "        list_of_days.append(x)\n",
    "    return list_of_days\n",
    "\n",
    "wrongWorkingDays = [\n",
    "    \"05/05/1997\"\n",
    "]\n",
    "\n",
    "wrongHolidays = [\n",
    "    \"04/10/1997\"\n",
    "]\n",
    "\n",
    "\n",
    "anomalousWorkingDays = []\n",
    "for x in wrongWorkingDays:\n",
    "    anomalousWorkingDays = append_anomalous_day(anomalousWorkingDays, x)\n",
    "print(\"anomalous working days are {}\".format(len(anomalousWorkingDays)))\n",
    "\n",
    "anomalousHolidays = []\n",
    "for x in wrongHolidays:\n",
    "    anomalousHolidays = append_anomalous_day(anomalousHolidays, x)\n",
    "print(\"anomalous holidays are {}\".format(len(anomalousHolidays)))\n"
   ]
  },
  {
   "cell_type": "markdown",
   "metadata": {
    "pycharm": {
     "name": "#%% md\n"
    }
   },
   "source": [
    "Ora vengono letti tutti i dati e divisi in modo tale da avere due liste distinte: la prima conterrà i campioni dei giorni lavorativi,\n",
    "mentre la seconda i campioni dei giorni festivi. Per evitare di avere un training contaminato dalle anomalie, i campioni dei\n",
    "giorni anomali non verranno inseriti all'interno delle liste descritte precedentemente, ma in 'anomalous_work_samples'\n",
    "e 'anomalous_holiday_samples'.\n",
    "\n",
    "Per controllare se un giorno è anomalo o meno, si è deciso di dare come dato di ingresso un vettore di 24 campioni sia all'algortimo\n",
    "k-means che all'autoencoder. Siccome la frequenza di campionamento è di 1 campione ogni 15 minuti, l'elemento i-esimo del vettore\n",
    "sarà la media dei 4 campioni registrati durante l'ora i-esima."
   ]
  },
  {
   "cell_type": "code",
   "execution_count": 4,
   "metadata": {
    "pycharm": {
     "name": "#%%\n"
    }
   },
   "outputs": [],
   "source": [
    "YEAR = 1997\n",
    "SAMPLES_PER_HOUR = 4\n",
    "\n",
    "holidays_netherlands = holidays.CountryHoliday('Netherlands', YEAR)\n",
    "holidays_samples = []\n",
    "work_samples = []\n",
    "anomalous_work_samples = []\n",
    "anomalous_holiday_samples = []\n",
    "\n",
    "\n",
    "starting_window = 0\n",
    "for date in pd.date_range(start=f'01-01-{YEAR}', end=f'31-12-{YEAR}', freq='1D'):\n",
    "    day_sample = []\n",
    "    for i in range(24):\n",
    "        hour_sample = samples[starting_window + SAMPLES_PER_HOUR * i : starting_window + SAMPLES_PER_HOUR * ( i + 1)].mean()\n",
    "        day_sample.append(hour_sample)\n",
    "    if date in anomalousWorkingDays:\n",
    "        anomalous_work_samples.append(day_sample)\n",
    "    elif date in anomalousHolidays:\n",
    "        anomalous_holiday_samples.append(day_sample)\n",
    "    elif date in holidays_netherlands or date.day_of_week == 5 or date.day_of_week == 6:\n",
    "        holidays_samples.append(day_sample)\n",
    "    else:\n",
    "        work_samples.append(day_sample)\n",
    "    starting_window += 96\n"
   ]
  },
  {
   "cell_type": "markdown",
   "metadata": {
    "pycharm": {
     "name": "#%% md\n"
    }
   },
   "source": [
    "Di seguito vengono preparati i training set e i testing set che verranno adottati per poter allenare i modelli di autoencoder\n",
    "e k-means.\n",
    "Si è deciso di utilizzare l'80% dei dati come training set, mentre il rimanente 20% come testing set."
   ]
  },
  {
   "cell_type": "code",
   "execution_count": 5,
   "metadata": {
    "pycharm": {
     "name": "#%%\n"
    }
   },
   "outputs": [
    {
     "name": "stdout",
     "output_type": "stream",
     "text": [
      "size of work_train is 201\n",
      "size of work_test is 51\n",
      "size of holiday_train is 88\n",
      "size of holiday_test is 23\n"
     ]
    }
   ],
   "source": [
    "work_samples_shuffled = work_samples\n",
    "holiday_samples_shuffled = holidays_samples\n",
    "random.shuffle(work_samples_shuffled)\n",
    "random.shuffle(holiday_samples_shuffled)\n",
    "\n",
    "PERCENTAGE = 0.8\n",
    "work_train = []\n",
    "holiday_train = []\n",
    "work_test = []\n",
    "holiday_test = []\n",
    "all_samples = []\n",
    "\n",
    "work_size_train = int(PERCENTAGE * len(work_samples))\n",
    "for index in range(work_size_train):\n",
    "    work_train.append(work_samples_shuffled[index])\n",
    "    all_samples.append(work_samples_shuffled[index])\n",
    "for index in range(work_size_train, len(work_samples)):\n",
    "    work_test.append(work_samples_shuffled[index])\n",
    "\n",
    "holiday_size_train = int(PERCENTAGE * len(holidays_samples))\n",
    "for index in range(holiday_size_train):\n",
    "    holiday_train.append(holiday_samples_shuffled[index])\n",
    "    all_samples.append(holiday_samples_shuffled[index]);\n",
    "for index in range(holiday_size_train, len(holidays_samples)):\n",
    "    holiday_test.append(holiday_samples_shuffled[index])\n",
    "\n",
    "print(\"size of work_train is {}\".format(len(work_train)))\n",
    "print(\"size of work_test is {}\".format(len(work_test)))\n",
    "print(\"size of holiday_train is {}\".format(len(holiday_train)))\n",
    "print(\"size of holiday_test is {}\".format(len(holiday_test)))\n"
   ]
  },
  {
   "cell_type": "markdown",
   "metadata": {
    "pycharm": {
     "name": "#%% md\n"
    }
   },
   "source": [
    "## Autoencoder\n",
    "\n",
    "Per poter individuare delle anomalie è possibile utilizzare due autoencoder:\n",
    "il primo verrà allenato con lo scopo di riconoscere i giorni lavorativi normali, mentre il secondo per riconoscere i giorni\n",
    "festivi normali.\n",
    "\n",
    "Dati i campioni di un determinato giorno è possibile sapere se sono stati raccolti durante un giorno festivo o lavorativo e di\n",
    "conseguenza usare l'autoencoder corretto: se l'autoencoder è in grado di ricostruire correttamente i consumi, allora il giorno\n",
    "analizzato potrà essere considerato normale, altrimenti anomalo."
   ]
  },
  {
   "cell_type": "markdown",
   "metadata": {
    "pycharm": {
     "name": "#%% md\n"
    }
   },
   "source": [
    "### Autoencoder per riconoscere i giorni lavorativi"
   ]
  },
  {
   "cell_type": "code",
   "execution_count": 6,
   "metadata": {
    "pycharm": {
     "name": "#%%\n"
    }
   },
   "outputs": [
    {
     "name": "stdout",
     "output_type": "stream",
     "text": [
      "Model: \"model\"\n",
      "_________________________________________________________________\n",
      "Layer (type)                 Output Shape              Param #   \n",
      "=================================================================\n",
      "input_1 (InputLayer)         [(None, 24)]              0         \n",
      "_________________________________________________________________\n",
      "1 (Dense)                    (None, 50)                1250      \n",
      "_________________________________________________________________\n",
      "2 (Dense)                    (None, 20)                1020      \n",
      "_________________________________________________________________\n",
      "3 (Dense)                    (None, 2)                 42        \n",
      "_________________________________________________________________\n",
      "4 (Dense)                    (None, 20)                60        \n",
      "_________________________________________________________________\n",
      "5 (Dense)                    (None, 50)                1050      \n",
      "_________________________________________________________________\n",
      "6 (Dense)                    (None, 24)                1224      \n",
      "=================================================================\n",
      "Total params: 4,646\n",
      "Trainable params: 4,646\n",
      "Non-trainable params: 0\n",
      "_________________________________________________________________\n"
     ]
    }
   ],
   "source": [
    "from tensorflow import keras\n",
    "\n",
    "SIZE_SAMPLE = 24\n",
    "#enconder\n",
    "activationMode = 'swish'\n",
    "encoderInputWork = keras.Input(shape=SIZE_SAMPLE)\n",
    "firstLayerEncoderWork = keras.layers.Dense(50, activation=activationMode, name=\"1\")(encoderInputWork)\n",
    "secondLayerEncoderWork = keras.layers.Dense(20, activation=activationMode, name=\"2\")(firstLayerEncoderWork)\n",
    "encoderOutputWork = keras.layers.Dense(2, activation=activationMode, name=\"3\")(secondLayerEncoderWork)\n",
    "\n",
    "#decoder\n",
    "firstLayerDecoderWork = keras.layers.Dense(20, activation=activationMode, name=\"4\")(encoderOutputWork)\n",
    "secondLayerDecoderWork = keras.layers.Dense(50, activation=activationMode, name=\"5\")(firstLayerDecoderWork)\n",
    "decoderOutputWork = keras.layers.Dense(24, activation=activationMode, name=\"6\")(secondLayerDecoderWork)\n",
    "\n",
    "#auto encoder\n",
    "autoEncoderWork = keras.Model(encoderInputWork, decoderOutputWork)\n",
    "autoEncoderWork.compile(optimizer='Adam', loss='mean_squared_error')\n",
    "autoEncoderWork.summary()"
   ]
  },
  {
   "cell_type": "markdown",
   "metadata": {},
   "source": [
    "Una volta costruito il modello è possibile allenarlo con il training set contenente i campioni di *soli* giorni lavorativi\n",
    "nominali."
   ]
  },
  {
   "cell_type": "code",
   "execution_count": 7,
   "metadata": {
    "pycharm": {
     "name": "#%%\n"
    }
   },
   "outputs": [
    {
     "data": {
      "text/plain": [
       "<tensorflow.python.keras.callbacks.History at 0x1cc3a0ab1c0>"
      ]
     },
     "execution_count": 7,
     "metadata": {},
     "output_type": "execute_result"
    }
   ],
   "source": [
    "BATCH_SIZE = 64\n",
    "train = np.array(work_train)\n",
    "autoEncoderWork.fit(train, train, epochs=40, batch_size=BATCH_SIZE, validation_split=0.2, verbose=0)\n"
   ]
  },
  {
   "cell_type": "markdown",
   "metadata": {
    "pycharm": {
     "name": "#%% md\n"
    }
   },
   "source": [
    "Per verificare che il modello si comporti correttamente, vengono fatte delle previsioni usando il testing set contenente\n",
    "campioni di soli giorni lavorativi e di seguito viene calcolato l'MSE tra i campioni ricostruiti e i campioni originali."
   ]
  },
  {
   "cell_type": "code",
   "execution_count": 8,
   "metadata": {
    "pycharm": {
     "name": "#%%\n"
    }
   },
   "outputs": [
    {
     "name": "stdout",
     "output_type": "stream",
     "text": [
      "score: 0.026702230398867315\n"
     ]
    },
    {
     "data": {
      "image/png": "[encoded data removed]",
      "text/plain": [
       "<Figure size 720x432 with 1 Axes>"
      ]
     },
     "metadata": {
      "needs_background": "light"
     },
     "output_type": "display_data"
    }
   ],
   "source": [
    "from sklearn import metrics\n",
    "\n",
    "predictedValues = autoEncoderWork.predict(work_test)\n",
    "score = np.sqrt(metrics.mean_squared_error(predictedValues, work_test))\n",
    "print(\"score: {}\".format(score))\n",
    "\n",
    "index = 10\n",
    "\n",
    "fig, ax = plt.subplots(figsize=(10,6))\n",
    "ax.plot([x for x in range(0, len(predictedValues[index]))], predictedValues[index], label=\"predicted\")\n",
    "ax.plot([x for x in range(0, len(work_test[index]))], work_test[index], label='to predict')\n",
    "ax.plot([0, len(work_test[index])], [0, 0], label='power 0')\n",
    "ax.grid()\n",
    "ax.legend()\n",
    "plt.show()\n"
   ]
  },
  {
   "cell_type": "markdown",
   "metadata": {
    "pycharm": {
     "name": "#%% md\n"
    }
   },
   "source": [
    "Come si può notare dai valori dell'MSE e dal grafico, il modello sembra ricostruire fedelmente i giorni lavorativi, tuttavia, per\n",
    "avere la certezza che il modello riesca ad individuare correttamente le anomalie è necessario testarlo anche con il testing set\n",
    "contenente giorni festivi normali: se l'MSE risulta molto più alto rispetto all'MSE precedentemente calcolato, allora si può assumere\n",
    "che il modello funzioni correttamente."
   ]
  },
  {
   "cell_type": "code",
   "execution_count": 9,
   "metadata": {
    "pycharm": {
     "name": "#%%\n"
    }
   },
   "outputs": [
    {
     "name": "stdout",
     "output_type": "stream",
     "text": [
      "score: 0.11157709457623181\n"
     ]
    },
    {
     "data": {
      "image/png": "[encoded data removed]",
      "text/plain": [
       "<Figure size 720x432 with 1 Axes>"
      ]
     },
     "metadata": {
      "needs_background": "light"
     },
     "output_type": "display_data"
    }
   ],
   "source": [
    "\n",
    "predictedValues = autoEncoderWork.predict(holiday_test)\n",
    "score = np.sqrt(metrics.mean_squared_error(predictedValues, holiday_test))\n",
    "print(\"score: {}\".format(score))\n",
    "\n",
    "index = 10\n",
    "\n",
    "fig, ax = plt.subplots(figsize=(10,6))\n",
    "ax.plot([x for x in range(0, len(predictedValues[index]))], predictedValues[index], label=\"predicted\")\n",
    "ax.plot([x for x in range(0, len(holiday_test[index]))], holiday_test[index], label='to predict')\n",
    "ax.plot([0, len(holiday_test[index])], [0, 0], label='power 0')\n",
    "ax.grid()\n",
    "ax.legend()\n",
    "plt.show()"
   ]
  },
  {
   "cell_type": "markdown",
   "metadata": {
    "pycharm": {
     "name": "#%% md\n"
    }
   },
   "source": [
    "Sia dal grafico che dall'MSE ottenuto(circa cinque volte quello precedentemente calcolato) risulta evidente come il modello\n",
    "non sia in grado di ricostruire giorni lavorativi anomali."
   ]
  },
  {
   "cell_type": "markdown",
   "metadata": {
    "pycharm": {
     "name": "#%% md\n"
    }
   },
   "source": [
    "### Autoencoder per riconoscere giorni festivi anomali\n",
    "Per riconoscere le anomalie tra i giorni festivi è possibile effettuare gli stessi passaggi per allenare un nuovo autoencoder\n",
    "a ricostruire giorni festivi normali."
   ]
  },
  {
   "cell_type": "code",
   "execution_count": 10,
   "metadata": {
    "pycharm": {
     "name": "#%%\n"
    }
   },
   "outputs": [
    {
     "name": "stdout",
     "output_type": "stream",
     "text": [
      "Model: \"model_1\"\n",
      "_________________________________________________________________\n",
      "Layer (type)                 Output Shape              Param #   \n",
      "=================================================================\n",
      "input_2 (InputLayer)         [(None, 24)]              0         \n",
      "_________________________________________________________________\n",
      "1 (Dense)                    (None, 50)                1250      \n",
      "_________________________________________________________________\n",
      "2 (Dense)                    (None, 20)                1020      \n",
      "_________________________________________________________________\n",
      "3 (Dense)                    (None, 2)                 42        \n",
      "_________________________________________________________________\n",
      "4 (Dense)                    (None, 20)                60        \n",
      "_________________________________________________________________\n",
      "5 (Dense)                    (None, 50)                1050      \n",
      "_________________________________________________________________\n",
      "6 (Dense)                    (None, 24)                1224      \n",
      "=================================================================\n",
      "Total params: 4,646\n",
      "Trainable params: 4,646\n",
      "Non-trainable params: 0\n",
      "_________________________________________________________________\n"
     ]
    }
   ],
   "source": [
    "SIZE_SAMPLE = 24\n",
    "#enconder\n",
    "activationMode = 'swish'\n",
    "encoderInputHoliday = keras.Input(shape=SIZE_SAMPLE)\n",
    "firstLayerEncoderHoliday = keras.layers.Dense(50, activation=activationMode, name=\"1\")(encoderInputHoliday)\n",
    "secondLayerEncoderHoliday = keras.layers.Dense(20, activation=activationMode, name=\"2\")(firstLayerEncoderHoliday)\n",
    "encoderOutputHoliday = keras.layers.Dense(2, activation=activationMode, name=\"3\")(secondLayerEncoderHoliday)\n",
    "\n",
    "#decoder\n",
    "firstLayerDecoderHoliday = keras.layers.Dense(20, activation=activationMode, name=\"4\")(encoderOutputHoliday)\n",
    "secondLayerDecoderholiday = keras.layers.Dense(50, activation=activationMode, name=\"5\")(firstLayerDecoderHoliday)\n",
    "decoderOutputHoliday = keras.layers.Dense(24, activation=activationMode, name=\"6\")(secondLayerDecoderholiday)\n",
    "\n",
    "#auto encoder\n",
    "autoEncoderHoliday = keras.Model(encoderInputHoliday, decoderOutputHoliday)\n",
    "autoEncoderHoliday.compile(optimizer='Adam', loss='mean_squared_error')\n",
    "autoEncoderHoliday.summary()"
   ]
  },
  {
   "cell_type": "markdown",
   "metadata": {},
   "source": [
    "Il modello viene allenato con holiday_train, ovvero campioni di soli giorni festivi nominali."
   ]
  },
  {
   "cell_type": "code",
   "execution_count": 11,
   "metadata": {
    "pycharm": {
     "name": "#%%\n"
    }
   },
   "outputs": [
    {
     "data": {
      "text/plain": [
       "<tensorflow.python.keras.callbacks.History at 0x1cc3d7fca00>"
      ]
     },
     "execution_count": 11,
     "metadata": {},
     "output_type": "execute_result"
    }
   ],
   "source": [
    "BATCH_SIZE = 64\n",
    "train = np.array(holiday_train)\n",
    "autoEncoderHoliday.fit(train, train, epochs=40, batch_size=BATCH_SIZE, validation_split=0.2, verbose=0)\n"
   ]
  },
  {
   "cell_type": "markdown",
   "metadata": {
    "pycharm": {
     "name": "#%% md\n"
    }
   },
   "source": [
    "Di seguito viene calcolato l'MSE tra i valori originali e previsti dei giorni di holiday_test."
   ]
  },
  {
   "cell_type": "code",
   "execution_count": 12,
   "metadata": {
    "pycharm": {
     "name": "#%%\n"
    }
   },
   "outputs": [
    {
     "name": "stdout",
     "output_type": "stream",
     "text": [
      "score: 0.01891600756987459\n"
     ]
    },
    {
     "data": {
      "image/png": "[encoded data removed]",
      "text/plain": [
       "<Figure size 720x432 with 1 Axes>"
      ]
     },
     "metadata": {
      "needs_background": "light"
     },
     "output_type": "display_data"
    }
   ],
   "source": [
    "predictedValues = autoEncoderHoliday.predict(holiday_test)\n",
    "score = np.sqrt(metrics.mean_squared_error(predictedValues, holiday_test))\n",
    "print(\"score: {}\".format(score))\n",
    "\n",
    "index = 10\n",
    "\n",
    "fig, ax = plt.subplots(figsize=(10,6))\n",
    "ax.plot([x for x in range(0, len(predictedValues[index]))], predictedValues[index], label=\"predicted\")\n",
    "ax.plot([x for x in range(0, len(holiday_test[index]))], holiday_test[index], label='to predict')\n",
    "ax.plot([0, len(holiday_test[index])], [0, 0], label='power 0')\n",
    "ax.grid()\n",
    "ax.legend()\n",
    "plt.show()\n"
   ]
  },
  {
   "cell_type": "markdown",
   "metadata": {
    "pycharm": {
     "name": "#%% md\n"
    }
   },
   "source": [
    "Il test mostra che l'errore misurato tramite l'MSE è intorno al 2%."
   ]
  },
  {
   "cell_type": "code",
   "execution_count": 13,
   "metadata": {
    "pycharm": {
     "name": "#%%\n"
    }
   },
   "outputs": [
    {
     "name": "stdout",
     "output_type": "stream",
     "text": [
      "score: 0.14444885367456542\n"
     ]
    },
    {
     "data": {
      "image/png": "[encoded data removed]",
      "text/plain": [
       "<Figure size 720x432 with 1 Axes>"
      ]
     },
     "metadata": {
      "needs_background": "light"
     },
     "output_type": "display_data"
    }
   ],
   "source": [
    "\n",
    "predictedValues = autoEncoderHoliday.predict(work_test)\n",
    "score = np.sqrt(metrics.mean_squared_error(predictedValues, work_test))\n",
    "print(\"score: {}\".format(score))\n",
    "\n",
    "index = 10\n",
    "\n",
    "fig, ax = plt.subplots(figsize=(10,6))\n",
    "ax.plot([x for x in range(0, len(predictedValues[index]))], predictedValues[index], label=\"predicted\")\n",
    "ax.plot([x for x in range(0, len(work_test[index]))], work_test[index], label='to predict')\n",
    "ax.plot([0, len(work_test[index])], [0, 0], label='power 0')\n",
    "ax.grid()\n",
    "ax.legend()\n",
    "plt.show()"
   ]
  },
  {
   "cell_type": "markdown",
   "metadata": {
    "pycharm": {
     "name": "#%% md\n"
    }
   },
   "source": [
    "Testando il secondo autoencoder con i giorni di work_test, è possibile notare come l'MSE calcolato sia circa 7 volte maggiore\n",
    "rispetto a quello calcolato precedentemente, di conseguenza è possibile assumere che il secondo autoencoder non sia in\n",
    "grado di ricostruire giorni festivi anomali."
   ]
  },
  {
   "cell_type": "markdown",
   "metadata": {
    "pycharm": {
     "name": "#%% md\n"
    }
   },
   "source": [
    "### Tolleranze\n",
    "Basandosi sulle osservazioni degli errori di ricostruzione dei singoli dati(sia anomali che non) è possibile stabilire una\n",
    "tolleranza sopra la quale una ricostruzione è da considerarsi errata e che quindi il giorno ricostruito sia anomalo.\n",
    "\n",
    "Di seguito vengono utilizzati 10 giorni festivi anomali e 10 festivi nominali per decidere la soglia per il secondo autoencoder."
   ]
  },
  {
   "cell_type": "code",
   "execution_count": 14,
   "metadata": {
    "pycharm": {
     "name": "#%%\n"
    }
   },
   "outputs": [
    {
     "data": {
      "image/png": "[encoded data removed]",
      "text/plain": [
       "<Figure size 432x288 with 1 Axes>"
      ]
     },
     "metadata": {
      "needs_background": "light"
     },
     "output_type": "display_data"
    }
   ],
   "source": [
    "holidays_errors = []\n",
    "\n",
    "for x in range(10):\n",
    "    predicted = autoEncoderHoliday.predict([work_test[x]])\n",
    "    holidays_errors.append(np.sqrt(metrics.mean_squared_error(predicted[0], work_test[x])))\n",
    "for x in range(10):\n",
    "    predicted = autoEncoderHoliday.predict([holiday_test[x]])\n",
    "    holidays_errors.append(np.sqrt(metrics.mean_squared_error(predicted[0], holiday_test[x])))\n",
    "\n",
    "THREASHOLD_HOLIDAY = 0.06\n",
    "\n",
    "fig, ax = plt.subplots(figsize=(6, 4))\n",
    "ax.stem([x for x in range(0, len(holidays_errors))], holidays_errors, 'g', label=\"errors\")\n",
    "ax.plot([0, len(holidays_errors)], [THREASHOLD_HOLIDAY, THREASHOLD_HOLIDAY], 'r', label=\"threshold\" )\n",
    "ax.grid()\n",
    "ax.legend()\n",
    "plt.show()\n"
   ]
  },
  {
   "cell_type": "markdown",
   "metadata": {
    "pycharm": {
     "name": "#%% md\n"
    }
   },
   "source": [
    "Infine vengono utilizzati 10 giorni lavorativi nominali e 10 giorni lavorativi anomali per determinare la soglia per il primo autoencoder:"
   ]
  },
  {
   "cell_type": "code",
   "execution_count": 15,
   "metadata": {
    "pycharm": {
     "name": "#%%\n"
    }
   },
   "outputs": [
    {
     "data": {
      "image/png": "[encoded data removed]",
      "text/plain": [
       "<Figure size 432x288 with 1 Axes>"
      ]
     },
     "metadata": {
      "needs_background": "light"
     },
     "output_type": "display_data"
    }
   ],
   "source": [
    "work_errors = []\n",
    "\n",
    "for x in range(10):\n",
    "    predicted = autoEncoderWork.predict([work_test[x]])\n",
    "    work_errors.append(np.sqrt(metrics.mean_squared_error(predicted[0], work_test[x])))\n",
    "for x in range(10):\n",
    "    predicted = autoEncoderWork.predict([holiday_test[x]])\n",
    "    work_errors.append(np.sqrt(metrics.mean_squared_error(predicted[0], holiday_test[x])))\n",
    "\n",
    "THREASHOLD_WORK = 0.07\n",
    "\n",
    "fig, ax = plt.subplots(figsize=(6,4))\n",
    "ax.stem([x for x in range(0, len(work_errors))], work_errors, 'g', label=\"errors\")\n",
    "ax.plot([0, len(work_errors)], [THREASHOLD_WORK, THREASHOLD_WORK], 'r', label=\"threshold\" )\n",
    "ax.grid()\n",
    "ax.legend()\n",
    "plt.show()\n"
   ]
  },
  {
   "cell_type": "markdown",
   "metadata": {
    "pycharm": {
     "name": "#%% md\n"
    }
   },
   "source": [
    "Ora che sono stati allenati i modelli e sono state definite le soglie per determinare se un giorno è da considerarsi anomalo\n",
    "o meno, è possibile creare una funzione che sia in grado di individuare delle anomalie.\n",
    "\n",
    "is_anomalous_ae richiede come parametri 'd' e 'sample', dove 'd' è un oggetto pandas.date che rappresenta la data di campionamento,\n",
    "mentre 'sample' è una lista di 24 campioni. La funzione restituisce un valore booleano, True se il giorno è anomalo, False altrimenti."
   ]
  },
  {
   "cell_type": "code",
   "execution_count": 16,
   "metadata": {
    "pycharm": {
     "name": "#%%\n"
    }
   },
   "outputs": [],
   "source": [
    "def is_anomalous_ae(d, sample):\n",
    "    h = holidays.CountryHoliday('Netherlands', d.year)\n",
    "    if d.day_of_week == 5 or d.day_of_week == 6 or d in h:\n",
    "        prediction = autoEncoderHoliday.predict([sample])\n",
    "        error = np.sqrt(metrics.mean_squared_error(prediction[0], sample))\n",
    "        return error > THREASHOLD_HOLIDAY\n",
    "    else :\n",
    "        prediction = autoEncoderWork.predict([sample])\n",
    "        error = np.sqrt(metrics.mean_squared_error(prediction[0], sample))\n",
    "        return error > THREASHOLD_WORK\n"
   ]
  },
  {
   "cell_type": "markdown",
   "metadata": {},
   "source": [
    "## K-MEANS\n",
    "\n",
    "Il secondo approccio utilizzato per individuare delle anomalie è di utilizzare l'algoritmo k-means.\n",
    "È possibile assumere che tutti i dati possano appartenere a due cluster: il primo rappresentante i giorni lavorativi, mentre\n",
    "il secondo i giorni festivi.\n",
    "Per individuare i centroidi verranno utilizzati nella fase di training sia i valori di work_train che di holiday_train."
   ]
  },
  {
   "cell_type": "code",
   "execution_count": 17,
   "metadata": {
    "pycharm": {
     "name": "#%%\n"
    }
   },
   "outputs": [],
   "source": [
    "from sklearn.cluster import KMeans\n",
    "\n",
    "random.shuffle(all_samples)\n",
    "\n",
    "N_CENTROIDS = 2\n",
    "kmeans2 = KMeans(n_clusters=N_CENTROIDS, random_state=0).fit(all_samples)\n",
    "label = kmeans2.predict(all_samples)\n",
    "unique_labels = np.unique(label)"
   ]
  },
  {
   "cell_type": "markdown",
   "metadata": {
    "pycharm": {
     "name": "#%% md\n"
    }
   },
   "source": [
    "Siccome k-means a ogni run associa un'etichetta diversa allo stesso cluster, è necessario individuare i cluster dei giorni\n",
    "lavorativi e festivi a run-time.\n",
    "\n",
    "Viene fatta una previsione sui dati dei giorni lavorativi utilizzati per formare i cluster: l'etichetta dei giorni lavorativi\n",
    "sarà quella restituita più spesso da k-means. La stessa operazione viene effettuata sui dati dei giorni festivi.\n",
    "\n",
    "Se il clustering è stato effettuato correttamente, allora la maggior parte dei giorni festivi devono essere associati a una determinata etichetta,\n",
    "mentre quelli lavorativi all'etichetta rimanente."
   ]
  },
  {
   "cell_type": "code",
   "execution_count": 18,
   "metadata": {
    "pycharm": {
     "name": "#%%\n"
    }
   },
   "outputs": [
    {
     "name": "stdout",
     "output_type": "stream",
     "text": [
      "working days labeled with label 0 = 201\n",
      "working days labeled with label 1 = 0\n",
      "holidays labeled with label 0 = 0\n",
      "holidays labeled with label 1 = 88\n",
      "working days are labeled with 0\n",
      "holidays are labeled with 1\n"
     ]
    }
   ],
   "source": [
    "work_labels = kmeans2.predict(work_train)\n",
    "holiday_labels = kmeans2.predict(holiday_train)\n",
    "\n",
    "cluster_0_work = np.count_nonzero(work_labels == unique_labels[0])\n",
    "cluster_1_work = np.count_nonzero(work_labels == unique_labels[1])\n",
    "\n",
    "cluster_0_holiday = np.count_nonzero(holiday_labels == unique_labels[0])\n",
    "cluster_1_holiday = np.count_nonzero(holiday_labels == unique_labels[1])\n",
    "\n",
    "if cluster_0_work > cluster_1_work:\n",
    "    real_label_work = 0\n",
    "else:\n",
    "    real_label_work = 1\n",
    "if cluster_0_holiday > cluster_1_holiday:\n",
    "    real_label_holiday = 0\n",
    "else:\n",
    "    real_label_holiday = 1\n",
    "print(\"working days labeled with label 0 = {}\".format(cluster_0_work))\n",
    "print(\"working days labeled with label 1 = {}\".format(cluster_1_work))\n",
    "print(\"holidays labeled with label 0 = {}\".format(cluster_0_holiday))\n",
    "print(\"holidays labeled with label 1 = {}\".format(cluster_1_holiday))\n",
    "\n",
    "\n",
    "print(\"working days are labeled with {}\".format(real_label_work))\n",
    "print(\"holidays are labeled with {}\".format(real_label_holiday))\n"
   ]
  },
  {
   "cell_type": "markdown",
   "metadata": {
    "pycharm": {
     "name": "#%% md\n"
    }
   },
   "source": [
    "Una volta definite le labels dei cluster, è possibile determinare se un determinato giorno è anomalo o meno. Conoscendo il giorno\n",
    "di campionamento, se la tipologia di giorno differisce dal cluster assegnato, allora il giorno analizzato è da\n",
    "considerarsi anomalo."
   ]
  },
  {
   "cell_type": "code",
   "execution_count": 19,
   "metadata": {
    "pycharm": {
     "name": "#%%\n"
    }
   },
   "outputs": [
    {
     "name": "stdout",
     "output_type": "stream",
     "text": [
      "Kmeans recognize an anomalous working day : True\n",
      "Kmeans recognize an anomalous holiday : True\n"
     ]
    }
   ],
   "source": [
    "prediction_anomalous_holiday = kmeans2.predict(anomalous_holiday_samples)[0]\n",
    "prediction_anomalous_work = kmeans2.predict(anomalous_work_samples)[0]\n",
    "\n",
    "print(\"Kmeans recognize an anomalous working day : {}\".format(prediction_anomalous_work != real_label_work))\n",
    "print(\"Kmeans recognize an anomalous holiday : {}\".format(prediction_anomalous_holiday != real_label_holiday))"
   ]
  },
  {
   "cell_type": "markdown",
   "metadata": {
    "pycharm": {
     "name": "#%% md\n"
    }
   },
   "source": [
    "La seguente funzione è in grado di individuare giorni anomali usando k-means\n",
    "\n",
    "I parametri richiesti sono 'd' e 'samples' dove 'd' è un pandas.date object che rappresenta la data di campionamento, mentre\n",
    "'samples' è un vettore di 24 campioni. Se il giorno è anomalo, la funzione restituisce True, altrimenti False."
   ]
  },
  {
   "cell_type": "code",
   "execution_count": 20,
   "metadata": {
    "pycharm": {
     "name": "#%%\n"
    }
   },
   "outputs": [],
   "source": [
    "def is_anomalous_kmeans(d, sample):\n",
    "    h = holidays.CountryHoliday('Netherlands', d.year)\n",
    "    prediction = kmeans2.predict(sample)\n",
    "    if d.day_of_week == 5 or d.day_of_week == 6 or d in h:\n",
    "        return prediction != real_label_holiday\n",
    "    else :\n",
    "        return prediction != real_label_work"
   ]
  },
  {
   "cell_type": "markdown",
   "metadata": {
    "pycharm": {
     "name": "#%% md\n"
    }
   },
   "source": [
    "## LSTM\n",
    "\n",
    "Un altro metodo che può essere utilizzato per individuare giorni anomali può essere quello di utilizzare un LSTM che,\n",
    "dati in ingresso i campioni degli ultimi sette giorni è in grado di prevedere i consumi del giorno successivo.\n",
    "Confrontando i consumi previsti con i consumi effettivi, se l'errore risulta essere relativamente alto, allora è possibile stabilire\n",
    "che il giorno analizzato è un'anomalia.\n",
    "\n",
    "Allenare l'LSTM a riconoscere anomalie sapendo i consumi degli ultimi sette giorni equivale a determinare quale sia il prossimo\n",
    "giorno della settimana data una sequenza di sette giorni: di conseguenza per poter avere delle previsioni accurate sarà necessario\n",
    "utilizzare delle settimane che non contengano giorni anomali o festività.\n",
    "Per comprendere meglio il problema, di seguito viene fornito un esempio.\n",
    "\n",
    "Siano L un giorno con consumi bassi e H un giorno con consumi alti.\n",
    "\n",
    "Data la sequenza L L H H H H H è lecito supporre che il giorno successivo sia un sabato.\n",
    "Data la sequenza anomala L L L H H H H non è possibile stabilire il giorno successivo, infatti la sequenza L L L potrebbe\n",
    "rappresentare la sequenza temporale Venerdì(festa), Sabato, Domenica oppure la sequenza Sabato, Domenica, Lunedì(festa), dunque\n",
    "il giorno successivo potrebbe essere sia un Venerdì(giorno lavorativo) che un Sabato(giorno festivo)."
   ]
  },
  {
   "cell_type": "code",
   "execution_count": 21,
   "metadata": {
    "pycharm": {
     "name": "#%%\n"
    }
   },
   "outputs": [],
   "source": [
    "#cleaning samples from weeks that contains an anomalous day\n",
    "def append_elements_of_list(from_array, to_array):\n",
    "    for element in from_array:\n",
    "        to_array.append(element)\n",
    "\n",
    "anomalous_days = []\n",
    "append_elements_of_list(anomalousWorkingDays, anomalous_days)\n",
    "append_elements_of_list(anomalousHolidays, anomalous_days)\n",
    "append_elements_of_list(holidays_netherlands, anomalous_days)"
   ]
  },
  {
   "cell_type": "markdown",
   "metadata": {
    "pycharm": {
     "name": "#%% md\n"
    }
   },
   "source": [
    "I campioni di samples che non sono contenuti in settimane anomale, vengono copiati in nuovo vettore 'cleaned_samples'."
   ]
  },
  {
   "cell_type": "code",
   "execution_count": 22,
   "metadata": {
    "pycharm": {
     "name": "#%%\n"
    }
   },
   "outputs": [
    {
     "name": "stdout",
     "output_type": "stream",
     "text": [
      "(1, 29568)\n"
     ]
    }
   ],
   "source": [
    "from datetime import timedelta\n",
    "\n",
    "cleaned_samples = []\n",
    "anomalous_weeks = []\n",
    "start = 0\n",
    "SPAN = DAY * 7\n",
    "for date in pd.date_range(start=f'01-01-{YEAR}', end=f'31-12-{YEAR}', freq='7D'):\n",
    "    is_anomalous_week = False\n",
    "    for day_of_week in pd.date_range(start=date, end=(date + timedelta(days=7)), freq = '1D'):\n",
    "        if day_of_week in anomalous_days:\n",
    "            is_anomalous_week = True\n",
    "    if not is_anomalous_week:\n",
    "        append_elements_of_list(samples[start : start + SPAN], cleaned_samples)\n",
    "    else:\n",
    "        append_elements_of_list(samples[start : start + SPAN], anomalous_weeks)\n",
    "    start += SPAN\n",
    "cleaned_samples = np.array(cleaned_samples[: int(len(cleaned_samples) / SPAN) * SPAN])\n",
    "cleaned_samples = cleaned_samples.reshape(1, cleaned_samples.shape[0])\n",
    "print(cleaned_samples.shape)"
   ]
  },
  {
   "cell_type": "markdown",
   "metadata": {
    "pycharm": {
     "name": "#%% md\n"
    }
   },
   "source": [
    "Una volta rimossi i dati delle settimane anomale, vengono create le liste 'window_samples' e 'labels',\n",
    "dove la prima è una lista di 56 elementi che rappresentano i consumi dell'ultima settimana, mentre la seconda è costituita\n",
    "da 8 elementi che rappresentano i consumi del giorno successivo.\n",
    "\n",
    "Come si può notare dai numeri, si assume che un campionamento avvenga ogni 3 ore per evitare di avere degli input troppo\n",
    "granulari. Siccome il campionamento avviene ogni 15 minuti, ogni elemento i-esimo delle liste precedenti rappresenta una\n",
    "media dei dati campionati nell'arco di 3 ore."
   ]
  },
  {
   "cell_type": "code",
   "execution_count": 23,
   "metadata": {
    "pycharm": {
     "name": "#%%\n"
    }
   },
   "outputs": [
    {
     "name": "stdout",
     "output_type": "stream",
     "text": [
      "294\n"
     ]
    },
    {
     "name": "stderr",
     "output_type": "stream",
     "text": [
      "<ipython-input-23-b2f958b1b6c8>:14: RuntimeWarning: Mean of empty slice.\n",
      "  label.append(cleaned_samples[0][starting_window + WINDOW_SIZE * DAY + SAMPLES_PER_HOUR * index : starting_window + WINDOW_SIZE * DAY + SAMPLES_PER_HOUR * (index + 3)].mean())\n",
      "c:\\users\\mvcim\\onedrive\\desktop\\vlad\\my_jupiter_notebooks\\paper2\\venv\\lib\\site-packages\\numpy\\core\\_methods.py:170: RuntimeWarning: invalid value encountered in double_scalars\n",
      "  ret = ret.dtype.type(ret / rcount)\n",
      "<ipython-input-23-b2f958b1b6c8>:11: RuntimeWarning: Mean of empty slice.\n",
      "  window.append(cleaned_samples[0][starting_window + SAMPLES_PER_HOUR * index : starting_window + SAMPLES_PER_HOUR * ( index + 3)].mean())\n"
     ]
    }
   ],
   "source": [
    "window_samples = []\n",
    "labels = []\n",
    "SAMPLES_PER_DAY = int(24 / 3)\n",
    "WINDOW_SIZE = 7\n",
    "\n",
    "for starting_window in range(0, len(cleaned_samples[0]), DAY):\n",
    "    window = []\n",
    "    label = []\n",
    "    index = 0\n",
    "    for x in range(WINDOW_SIZE * SAMPLES_PER_DAY):\n",
    "        window.append(cleaned_samples[0][starting_window + SAMPLES_PER_HOUR * index : starting_window + SAMPLES_PER_HOUR * ( index + 3)].mean())\n",
    "        index += 3\n",
    "    for x in range(SAMPLES_PER_DAY):\n",
    "        label.append(cleaned_samples[0][starting_window + WINDOW_SIZE * DAY + SAMPLES_PER_HOUR * index : starting_window + WINDOW_SIZE * DAY + SAMPLES_PER_HOUR * (index + 3)].mean())\n",
    "        index += 3\n",
    "    window_samples.append(window)\n",
    "    labels.append(label)\n",
    "labels = labels[: len(labels) - 14]\n",
    "window_samples = window_samples[: len(window_samples) - 14]\n",
    "print(len(window_samples))\n"
   ]
  },
  {
   "cell_type": "markdown",
   "metadata": {
    "pycharm": {
     "name": "#%% md\n"
    }
   },
   "source": [
    "Di seguito viene rappresentata una settimana non anomala e il suo giorno successivo, ovvero l'input dell'LSTM e ciò che ci\n",
    "si aspetta che sia in grado di prevedere."
   ]
  },
  {
   "cell_type": "code",
   "execution_count": 24,
   "metadata": {
    "pycharm": {
     "name": "#%%\n"
    }
   },
   "outputs": [
    {
     "data": {
      "image/png": "[encoded data removed]",
      "text/plain": [
       "<Figure size 720x432 with 1 Axes>"
      ]
     },
     "metadata": {
      "needs_background": "light"
     },
     "output_type": "display_data"
    },
    {
     "data": {
      "image/png": "[encoded data removed]",
      "text/plain": [
       "<Figure size 72x216 with 1 Axes>"
      ]
     },
     "metadata": {
      "needs_background": "light"
     },
     "output_type": "display_data"
    }
   ],
   "source": [
    "#plotting cleaned samples\n",
    "index = 0\n",
    "fig, ax = plt.subplots(figsize=(10,6))\n",
    "ax.plot([x for x in range(0, len(window_samples[index]))], window_samples[index], label=\"cleaned_week\")\n",
    "ax.plot([0, len(window_samples[index])], [0, 0], label='power 0')\n",
    "ax.grid()\n",
    "ax.legend()\n",
    "plt.show()\n",
    "\n",
    "fig, ax = plt.subplots(figsize=(1,3))\n",
    "ax.plot([x for x in range(0, len(labels[index]))], labels[index], label=\"prediction\")\n",
    "ax.plot([0, len(labels[index])], [0, 0], label='power 0')\n",
    "ax.grid()\n",
    "ax.legend()\n",
    "plt.show()"
   ]
  },
  {
   "cell_type": "markdown",
   "metadata": {
    "pycharm": {
     "name": "#%% md\n"
    }
   },
   "source": [
    "A causa delle scarse dimensioni del dataset, il modello non è in grado di riconoscere correttamente\n",
    "i consumi del sabato: anziché prevedere dei consumi bassi, vengono previsti dei consumi elevati come quelli di un giorno\n",
    "lavorativo. Per far fronte a questa problematica si è deciso di utilizzare una tecnica di data augmentation, ovvero\n",
    "di raddoppiare le finestre settimanali che hanno i campioni\n",
    "dei giorni che vanno dal sabato al venerdì e come valori da prevedere i consumi del sabato. Così facendo si va ad aumentare\n",
    "significativamente il numero di dati necessari all'apprendimento dei consumi del sabato."
   ]
  },
  {
   "cell_type": "code",
   "execution_count": 25,
   "metadata": {
    "pycharm": {
     "name": "#%%\n"
    }
   },
   "outputs": [],
   "source": [
    "duplicated_windows = []\n",
    "duplicated_labels = []\n",
    "\n",
    "#duplicating some data that should anticipate a saturday.\n",
    "for i in range(3, len(window_samples), 7):\n",
    "    window_samples.append(window_samples[i])\n",
    "    labels.append(labels[i])\n",
    "    duplicated_windows.append(window_samples[i])\n",
    "    duplicated_labels.append(labels[i])\n",
    "\n",
    "append_elements_of_list(window_samples, duplicated_windows)\n",
    "append_elements_of_list(labels, duplicated_labels)\n",
    "window_samples = duplicated_windows\n",
    "labels = duplicated_labels\n"
   ]
  },
  {
   "cell_type": "markdown",
   "metadata": {
    "pycharm": {
     "name": "#%% md\n"
    }
   },
   "source": [
    "Di seguito vengono create delle liste per il training e il testing del modello."
   ]
  },
  {
   "cell_type": "code",
   "execution_count": 26,
   "metadata": {
    "pycharm": {
     "name": "#%%\n"
    }
   },
   "outputs": [],
   "source": [
    "train_weeks = []\n",
    "train_labels = []\n",
    "testing_weeks = []\n",
    "testing_labels = []\n",
    "\n",
    "training_size = int(len(labels) * PERCENTAGE)\n",
    "for index in range(training_size):\n",
    "    train_weeks.append(window_samples[index])\n",
    "    train_labels.append(labels[index])\n",
    "for index in range(training_size, len(labels)):\n",
    "    testing_weeks.append(window_samples[index])\n",
    "    testing_labels.append(labels[index])\n",
    "\n",
    "\n",
    "def search_nan(arr):\n",
    "    for element in arr:\n",
    "        for x in element:\n",
    "            if math.isnan(x):\n",
    "                return True\n",
    "    return False\n"
   ]
  },
  {
   "cell_type": "markdown",
   "metadata": {
    "pycharm": {
     "name": "#%% md\n"
    }
   },
   "source": [
    "Gli LSTM layer richiedono degli input tridimensionali(samples, time steps, features), quindi il set di training deve\n",
    "essere ridimensionato correttamente."
   ]
  },
  {
   "cell_type": "code",
   "execution_count": 27,
   "metadata": {
    "pycharm": {
     "name": "#%%\n"
    }
   },
   "outputs": [
    {
     "name": "stdout",
     "output_type": "stream",
     "text": [
      "False\n",
      "False\n",
      "False\n",
      "False\n"
     ]
    }
   ],
   "source": [
    "def reshape_set(set_to_convert, features):\n",
    "    return set_to_convert.reshape((set_to_convert.shape[0], set_to_convert.shape[1], features))\n",
    "\n",
    "\n",
    "train_weeks = np.array(train_weeks)\n",
    "train_labels = np.array(train_labels)\n",
    "testing_weeks = np.array(testing_weeks)\n",
    "testing_labels = np.array(testing_labels)\n",
    "\n",
    "print(search_nan(train_weeks))\n",
    "print(search_nan(train_labels))\n",
    "print(search_nan(testing_weeks))\n",
    "print(search_nan(testing_labels))\n",
    "\n",
    "FEATURES = 1\n",
    "\n",
    "training_set = reshape_set(train_weeks, FEATURES)\n",
    "testing_set = reshape_set(testing_weeks, FEATURES)"
   ]
  },
  {
   "cell_type": "code",
   "execution_count": 28,
   "metadata": {
    "pycharm": {
     "name": "#%%\n"
    }
   },
   "outputs": [
    {
     "name": "stdout",
     "output_type": "stream",
     "text": [
      "Model: \"sequential_1\"\n",
      "_________________________________________________________________\n",
      "Layer (type)                 Output Shape              Param #   \n",
      "=================================================================\n",
      "lstm (LSTM)                  (None, 56, 100)           40800     \n",
      "_________________________________________________________________\n",
      "dropout (Dropout)            (None, 56, 100)           0         \n",
      "_________________________________________________________________\n",
      "lstm_1 (LSTM)                (None, 100)               80400     \n",
      "_________________________________________________________________\n",
      "dropout_1 (Dropout)          (None, 100)               0         \n",
      "_________________________________________________________________\n",
      "dense (Dense)                (None, 50)                5050      \n",
      "_________________________________________________________________\n",
      "dropout_2 (Dropout)          (None, 50)                0         \n",
      "_________________________________________________________________\n",
      "dense_1 (Dense)              (None, 20)                1020      \n",
      "_________________________________________________________________\n",
      "dropout_3 (Dropout)          (None, 20)                0         \n",
      "_________________________________________________________________\n",
      "dense_2 (Dense)              (None, 8)                 168       \n",
      "=================================================================\n",
      "Total params: 127,438\n",
      "Trainable params: 127,438\n",
      "Non-trainable params: 0\n",
      "_________________________________________________________________\n"
     ]
    }
   ],
   "source": [
    "from tensorflow.keras.models import Sequential\n",
    "from tensorflow.keras.layers import Dense\n",
    "from tensorflow.keras.optimizers import Adam\n",
    "from tensorflow.python.keras.layers import LSTM, Dropout\n",
    "\n",
    "ACTIVATION_MODE = 'tanh'\n",
    "hourForecaster = Sequential()\n",
    "\n",
    "BATCH_SIZE = 256\n",
    "NUM_SAMPLES = len(training_set)\n",
    "n_steps_in = 8 * 7\n",
    "drop_out = 0.1\n",
    "\n",
    "model = Sequential()\n",
    "model.add(LSTM(100, activation=ACTIVATION_MODE, return_sequences=True, input_shape=(n_steps_in, FEATURES)))\n",
    "model.add(Dropout(drop_out))\n",
    "model.add(LSTM(100, activation=ACTIVATION_MODE))\n",
    "model.add(Dropout(drop_out))\n",
    "model.add(Dense(50, activation=ACTIVATION_MODE))\n",
    "model.add(Dropout(drop_out))\n",
    "model.add(Dense(20, activation=ACTIVATION_MODE))\n",
    "model.add(Dropout(drop_out))\n",
    "model.add(Dense(8, activation=ACTIVATION_MODE))\n",
    "\n",
    "model.compile(optimizer = Adam(learning_rate=0.001), loss='mse')\n",
    "#best parameters :  activation mode tanh\n",
    "#                   learning rate = 0.001\n",
    "#                   batch_size 256(with duplicated saturdays)\n",
    "#                   loss mse\n",
    "#dropout            0.1\n",
    "#score              7,5%\n",
    "model.summary()"
   ]
  },
  {
   "cell_type": "code",
   "execution_count": 29,
   "metadata": {
    "pycharm": {
     "name": "#%%\n"
    }
   },
   "outputs": [
    {
     "data": {
      "text/plain": [
       "<tensorflow.python.keras.callbacks.History at 0x1cc4389adc0>"
      ]
     },
     "execution_count": 29,
     "metadata": {},
     "output_type": "execute_result"
    }
   ],
   "source": [
    "model.fit(training_set, train_labels, epochs=60, verbose=0, validation_data=(testing_set, testing_labels))\n",
    "#validation_data=(testing_set, testing_labels)"
   ]
  },
  {
   "cell_type": "markdown",
   "metadata": {},
   "source": [
    "Per verificare che il training abbia funzionato, possiamo utilizzare il testing set e calcolare l'MSE tra le labels dei\n",
    "test e le previsioni ottenute dal modello."
   ]
  },
  {
   "cell_type": "code",
   "execution_count": 30,
   "metadata": {
    "pycharm": {
     "name": "#%%\n"
    }
   },
   "outputs": [
    {
     "name": "stdout",
     "output_type": "stream",
     "text": [
      "score: 0.03849663263258331\n"
     ]
    }
   ],
   "source": [
    "def convert_predicted_value(x):\n",
    "    new_x = []\n",
    "    for element in x:\n",
    "        new_x.append(element[-1])\n",
    "    return new_x\n",
    "\n",
    "to_predict = testing_set\n",
    "labels_to_predict = testing_labels\n",
    "to_predict = to_predict.reshape((to_predict.shape[0], to_predict.shape[1], FEATURES))\n",
    "\n",
    "predictedValues = model.predict(to_predict)\n",
    "\n",
    "score = np.sqrt(metrics.mean_squared_error(predictedValues, labels_to_predict))\n",
    "print(\"score: {}\".format(score))\n",
    "\n",
    "\n",
    "labels_to_predict = np.array(labels_to_predict)\n",
    "labels_to_predict = labels_to_predict.reshape(1, labels_to_predict.shape[0] * labels_to_predict.shape[1])\n",
    "predictedValues = predictedValues.reshape(1, predictedValues.shape[0] * predictedValues.shape[1])\n"
   ]
  },
  {
   "cell_type": "code",
   "execution_count": 31,
   "metadata": {
    "pycharm": {
     "name": "#%%\n"
    }
   },
   "outputs": [
    {
     "data": {
      "image/png": "[encoded data removed]",
      "text/plain": [
       "<Figure size 720x432 with 1 Axes>"
      ]
     },
     "metadata": {
      "needs_background": "light"
     },
     "output_type": "display_data"
    }
   ],
   "source": [
    "START = 0\n",
    "END = 200\n",
    "\n",
    "fig, ax = plt.subplots(figsize=(10,6))\n",
    "ax.plot([x for x in range(0, len(predictedValues[0][START:END]))], predictedValues[0][START:END], label=\"predicted\")\n",
    "ax.plot([x for x in range(0, len(labels_to_predict[0][START:END]))], labels_to_predict[0][START:END], label='to predict')\n",
    "ax.grid()\n",
    "ax.legend()\n",
    "plt.show()\n",
    "\n"
   ]
  },
  {
   "cell_type": "markdown",
   "metadata": {
    "pycharm": {
     "name": "#%% md\n"
    }
   },
   "source": [
    "### Soglia di tolleranza\n",
    "Ora che è stato allenato correttamente il modello, bisogna determinare la soglia di errore per cui si può considerare che\n",
    "il giorno previsto sia un'anomalia.\n",
    "Di seguito vengono osservati 10 errori per previsioni corrette e 10 errori per previsioni errate."
   ]
  },
  {
   "cell_type": "code",
   "execution_count": 32,
   "metadata": {
    "pycharm": {
     "name": "#%%\n"
    }
   },
   "outputs": [
    {
     "data": {
      "image/png": "[encoded data removed]",
      "text/plain": [
       "<Figure size 432x288 with 1 Axes>"
      ]
     },
     "metadata": {
      "needs_background": "light"
     },
     "output_type": "display_data"
    }
   ],
   "source": [
    "errors = []\n",
    "span = 25\n",
    "testing_set = testing_set.reshape(testing_set.shape[0], testing_set.shape[1])\n",
    "for x in range(10):\n",
    "    to_predict = np.array(testing_set[x + span])\n",
    "    to_predict = to_predict.reshape(1, 56, 1)\n",
    "    prevision = model.predict(to_predict)\n",
    "    lbs = np.array(labels_to_predict)\n",
    "    lbs = lbs.reshape(int(labels_to_predict.shape[1] / 8), 8)\n",
    "    lb = np.array(lbs[x + span])\n",
    "    lb = lb.reshape(1, 8)\n",
    "    errors.append(np.sqrt(metrics.mean_squared_error(prevision, lb)))\n",
    "\n",
    "m_index = 4\n",
    "for x in range(10):\n",
    "    if x == 5:\n",
    "        m_index = 6\n",
    "    predicted_labels = np.array(predictedValues)\n",
    "    predicted_labels = predicted_labels.reshape(int(predicted_labels.shape[1] / 8), 8)\n",
    "    low_demand = predicted_labels[x + m_index]\n",
    "    high_demand = predicted_labels[-1 - x]\n",
    "    errors.append(np.sqrt(metrics.mean_squared_error(high_demand, low_demand)))\n",
    "\n",
    "THREASHOLD = 0.10\n",
    "\n",
    "fig, ax = plt.subplots(figsize=(6,4))\n",
    "ax.stem([x for x in range(0, len(errors))], errors, 'g', label=\"errors\")\n",
    "ax.plot([0, len(errors)], [THREASHOLD, THREASHOLD], 'r', label=\"threshold\" )\n",
    "ax.grid()\n",
    "ax.legend()\n",
    "plt.show()\n",
    "\n"
   ]
  },
  {
   "cell_type": "markdown",
   "metadata": {
    "pycharm": {
     "name": "#%% md\n"
    }
   },
   "source": [
    "Infine viene definita una funzione per individuare i giorni anomali con l'uso dell'LSTM.\n",
    "La funzione is_anomalous_lstm richiede come parametri 'd', 'samples, 'curr_sample', dove d è un pandas.date\n",
    "object, mentre samples è un array di 56 elementi rappresentanti i campioni degli ultimi sette giorni, infine\n",
    "curr_sample è un vettore di otto elementi, ovvero i campioni del giorno da analizzare.\n",
    "Il metodo restituisce True se il giorno dato è anomalo, altrimenti False.\n",
    "\n",
    "In precedenza si è deciso di eliminare dal training le settimane contenenti giorni festivi, di conseguenza,\n",
    "se il modello è stato allenato correttamente, dovrebbe individuare le festività che cadono nei giorni lavorativi\n",
    "come delle anomalie. Per evitare che ciò accada è possibile verificare che il giorno da analizzare sia una festività\n",
    "in un giorno lavorativo: nel caso in cui ciò si verificasse si può assumere che se il giorno è anomalo se l'errore è basso,\n",
    "anziché alto."
   ]
  },
  {
   "cell_type": "code",
   "execution_count": 33,
   "metadata": {
    "pycharm": {
     "name": "#%%\n"
    }
   },
   "outputs": [],
   "source": [
    "def is_anomalous_lstm(d, samples, curr_sample):\n",
    "    h = holidays.CountryHoliday('Netherlands', d.year)\n",
    "    x = np.array(samples)\n",
    "    x = x.reshape(1, 56, 1)\n",
    "    p = model.predict(x)\n",
    "    y = np.array(curr_sample)\n",
    "    y = y.reshape(1, 8)\n",
    "    err = np.sqrt(metrics.mean_squared_error(p, y))\n",
    "    if d in h and not (d.day_of_week == 5 or d.day_of_week == 6):\n",
    "        return err < THREASHOLD\n",
    "    else:\n",
    "        return err > THREASHOLD\n"
   ]
  }
 ],
 "metadata": {
  "kernelspec": {
   "display_name": "Python 3",
   "language": "python",
   "name": "python3"
  },
  "language_info": {
   "codemirror_mode": {
    "name": "ipython",
    "version": 3
   },
   "file_extension": ".py",
   "mimetype": "text/x-python",
   "name": "python",
   "nbconvert_exporter": "python",
   "pygments_lexer": "ipython3",
   "version": "3.8.5"
  }
 },
 "nbformat": 4,
 "nbformat_minor": 1
}